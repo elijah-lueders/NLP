{
 "cells": [
  {
   "cell_type": "markdown",
   "metadata": {},
   "source": [
    "# Fortnight 2 Demo\n"
   ]
  },
  {
   "cell_type": "code",
   "execution_count": 1,
   "metadata": {},
   "outputs": [
    {
     "name": "stderr",
     "output_type": "stream",
     "text": [
      "Some weights of PegasusForConditionalGeneration were not initialized from the model checkpoint at google/pegasus-multi_news and are newly initialized: ['model.encoder.embed_positions.weight', 'model.decoder.embed_positions.weight']\n",
      "You should probably TRAIN this model on a down-stream task to be able to use it for predictions and inference.\n"
     ]
    }
   ],
   "source": [
    "from transformers import pipelin\n",
    "\n",
    "summarizer = pipeline(\"summarization\", model=\"google/pegasus-multi_news\")"
   ]
  },
  {
   "cell_type": "code",
   "execution_count": 16,
   "metadata": {},
   "outputs": [],
   "source": [
    "from datasets import load_dataset\n",
    "\n",
    "cc_news_data = load_dataset(\"cc_news\" , split=\"train\")"
   ]
  },
  {
   "cell_type": "code",
   "execution_count": 17,
   "metadata": {},
   "outputs": [
    {
     "name": "stdout",
     "output_type": "stream",
     "text": [
      "DatasetDict({\n",
      "    train: Dataset({\n",
      "        features: ['title', 'text', 'domain', 'date', 'description', 'url', 'image_url'],\n",
      "        num_rows: 708241\n",
      "    })\n",
      "})\n"
     ]
    }
   ],
   "source": [
    "print(cc_news_data)"
   ]
  },
  {
   "cell_type": "code",
   "execution_count": 4,
   "metadata": {},
   "outputs": [
    {
     "data": {
      "text/plain": [
       "{'title': 'Isabella Boylston and James Whiteside Get Hilariously Candid',\n",
       " 'text': \"Though American Ballet Theatre principals James Whiteside and Isabella Boylston have long displayed their envy-worthy friendship on Instagram, this week the Cindies (their nickname for each other) offered viewers an even deeper glimpse into their world. While on tour with ABT at the Kennedy Center, the duo sat down in front of the camera to answer some questions from their fans via Facebook Live.\\nStarbucks in hand, they discuss their mutual love of food (particularly pasta and Japanese curry), the story behind the Cindy nickname and what it's like picking up contemporary choreography versus classical. Boylston also delves into her experience guesting with the Paris Opéra Ballet, her dream of choreographing an avant-garde ballet on Whiteside to a Carly Rae Jepsen song and best and worst Kennedy Center memories (like the time she fell onstage while doing fouettés at the end of La Bayadère's first act).\\nWhiteside, on the other hand, imitates a unicorn, talks about preparing for roles and creates a new middle name for Boylston. The twosome also offer heartfelt advice for aspiring professional dancers.\\nCheck out the highlights in this video below; for the full 24-minute version, click here.\",\n",
       " 'domain': 'www.pointemagazine.com',\n",
       " 'date': '2018-02-02 21:44:06',\n",
       " 'description': 'Though American Ballet Theatre principals James Whiteside and Isabella Boylston have long displayed their envy-worthy friendship on Instagram, this week the Cindies (their nickname for each other) offered viewers an even deeper glimpse into their world. While on tour with ABT at the Kennedy Center, the duo sat down in front of the camera to answer some questions from their fans via Facebook Live.',\n",
       " 'url': 'http://www.pointemagazine.com/isabella-boylston-james-whiteside-cindies-2530822663.html',\n",
       " 'image_url': 'https://pointe-img.rbl.ms/simage/https%3A%2F%2Fassets.rbl.ms%2F17155152%2F980x.png/2000%2C2000/dXp0KzaFfQR8JSjL/img.png'}"
      ]
     },
     "execution_count": 4,
     "metadata": {},
     "output_type": "execute_result"
    }
   ],
   "source": [
    "cc_news_data[10]\n"
   ]
  },
  {
   "cell_type": "code",
   "execution_count": 5,
   "metadata": {},
   "outputs": [
    {
     "data": {
      "text/plain": [
       "1204"
      ]
     },
     "execution_count": 5,
     "metadata": {},
     "output_type": "execute_result"
    }
   ],
   "source": [
    "len(cc_news_data[10]['text'])"
   ]
  },
  {
   "cell_type": "code",
   "execution_count": 6,
   "metadata": {},
   "outputs": [
    {
     "name": "stdout",
     "output_type": "stream",
     "text": [
      "max_length: 895, max_index: 0\n",
      "max_length: 1215, max_index: 1\n",
      "max_length: 4836, max_index: 4\n",
      "max_length: 6473, max_index: 7\n",
      "max_length: 7738, max_index: 8\n",
      "max_length: 13455, max_index: 33\n",
      "max_length: 14099, max_index: 37\n",
      "max_length: 33930, max_index: 385\n",
      "max_length: 40424, max_index: 5137\n",
      "max_length: 46308, max_index: 7215\n",
      "max_length: 77891, max_index: 14115\n",
      "max_length: 86728, max_index: 28470\n",
      "max_length: 96787, max_index: 54916\n",
      "max_length: 99842, max_index: 161689\n",
      "max_length: 99954, max_index: 237533\n",
      "max_length: 99980, max_index: 237549\n",
      "max_length: 100000, max_index: 489689\n"
     ]
    }
   ],
   "source": [
    "max_length = 0\n",
    "max_index = 0\n",
    "for i in range(len(cc_news_data)):\n",
    "    if len(cc_news_data[i]['text']) > max_length:\n",
    "        max_length = len(cc_news_data[i]['text'])\n",
    "        max_index = i\n",
    "        print(f\"max_length: {max_length}, max_index: {max_index}\")"
   ]
  },
  {
   "cell_type": "code",
   "execution_count": 7,
   "metadata": {},
   "outputs": [
    {
     "name": "stdout",
     "output_type": "stream",
     "text": [
      "489689\n"
     ]
    }
   ],
   "source": [
    "print(max_index)"
   ]
  },
  {
   "cell_type": "code",
   "execution_count": 15,
   "metadata": {},
   "outputs": [
    {
     "data": {
      "text/plain": [
       "{'title': 'The Joffrey Presents Ekman\\'s \"Midsummer Night\\'s Dream\"',\n",
       " 'text': 'This spring, The Joffrey Ballet will present the North American premiere of Alexander Ekman\\'s Midsummer Night\\'s Dream. The Swedish choreographer is best known for his absurdist and cutting-edge productions. \"This is not Shakespeare\\'s Midsummer,\" says Joffrey Ballet artistic director Ashley Wheater. The title of Ekman\\'s version, which premiered with the Royal Swedish Ballet in 2015, refers not to Shakespeare but to Midsummer, the traditional Scandinavian summer solstice festival. The piece follows a young man through a day of revelry followed by a nightmare, blurring the line with reality. \"It\\'s a kind of otherworldly dream,\" says Wheater.\\nBringing Ekman\\'s production to life is no small feat; the piece utilizes the entire Joffrey company. \"I can\\'t think of another performance that has so many props,\" says Wheater, listing giant bales of hay, long banquet tables, umbrellas, beach chairs and more. The piece features a commissioned score by Swedish composer Mikael Karlsson, which will be performed onstage by singer Anna von Hausswolff. \"She is very much a part of the performance; she\\'s kind of the narrator,\" says Wheater. Dancers also contribute to the narration with spoken text, including imagery of young love and a dose of humor.\\nThe Royal Swedish Ballet in Alexander Ekman\\'s \"Midsummer Night\\'s Dream.\" Photo by Hans Nilsson, Courtesy Joffrey Ballet.\\nThis will be the fourth work by Ekman that The Joffrey has performed. \"I think it says something that Alex trusts us to bring the work to its full realization,\" says Wheater. \"It\\'s not just a few ballet steps here and there; he asks you to fully engage with yourself, not only as a dancer but as an actor and a person.\" Ekman\\'s Midsummer will run April 25–May 6 at the Auditorium Theatre in Chicago.',\n",
       " 'domain': 'www.pointemagazine.com',\n",
       " 'date': '2018-04-24 15:00:34',\n",
       " 'description': 'This spring, The Joffrey Ballet will present the North American premiere of Alexander Ekman\\'s Midsummer Night\\'s Dream. The Swedish choreographer is best known for his absurdist and cutting-edge productions. \"This is not Shakespeare\\'s Midsummer,\" says Joffrey Ballet artistic director Ashley Wheater. The title of Ekman\\'s version, which premiered with the Royal Swedish Ballet in 2015, refers not to Shakespeare but to Midsummer, the traditional Scandinavian summer solstice festival. The piece follows a young man through a day of revelry followed by a nightmare, blurring the line with reality. \"It\\'s a kind of otherworldly dream,\" says Wheater.',\n",
       " 'url': 'https://www.pointemagazine.com/joffrey-ballet-midsummer-nights-dream-2562923405.html',\n",
       " 'image_url': 'https://pointe-img.rbl.ms/simage/https%3A%2F%2Fassets.rbl.ms%2F17590399%2F980x.jpg/2000%2C2000/4jeZ6HzEY6tyiO4m/img.jpg'}"
      ]
     },
     "execution_count": 15,
     "metadata": {},
     "output_type": "execute_result"
    }
   ],
   "source": [
    "cc_news_data[14]"
   ]
  },
  {
   "cell_type": "code",
   "execution_count": 9,
   "metadata": {},
   "outputs": [
    {
     "name": "stdout",
     "output_type": "stream",
     "text": [
      "[{'summary_text': '– If you\\'re looking for a fun way to spend your Saturday night, head to one of the UK\\'s many comedy clubs. The Empire Theatre in Blackburn, for example, is hosting Grimethorpe Band, a \"feel-good tribute performing the much-loved hits of the 70s legends,\" per the Lancashire Evening Post. Or you can head to Manchester\\'s Manford\\'s Comedy Club, where \"Jason selects some of his favorite circuit comedians and sends them to Chorley'}]\n"
     ]
    }
   ],
   "source": [
    "print(summarizer(cc_news_data[14115]['text'][:3975], max_length=100, min_length=50))"
   ]
  },
  {
   "cell_type": "code",
   "execution_count": 10,
   "metadata": {},
   "outputs": [],
   "source": [
    "list_indices_to_keep = []\n",
    "for i in range(len(cc_news_data)):\n",
    "    if len(cc_news_data[i]['text']) < 3000 and len(cc_news_data[i]['text']) > 1000:\n",
    "        if len(cc_news_data[i]['description']) > 20:\n",
    "            list_indices_to_keep.append(i)"
   ]
  },
  {
   "cell_type": "code",
   "execution_count": 11,
   "metadata": {},
   "outputs": [
    {
     "name": "stdout",
     "output_type": "stream",
     "text": [
      "216884\n"
     ]
    }
   ],
   "source": [
    "print(len(list_indices_to_keep))"
   ]
  },
  {
   "cell_type": "code",
   "execution_count": 12,
   "metadata": {},
   "outputs": [
    {
     "data": {
      "text/plain": [
       "Dataset({\n",
       "    features: ['title', 'text', 'domain', 'date', 'description', 'url', 'image_url'],\n",
       "    num_rows: 216884\n",
       "})"
      ]
     },
     "execution_count": 12,
     "metadata": {},
     "output_type": "execute_result"
    }
   ],
   "source": [
    "# create a new dataset with the indices we want to keep\n",
    "cc_news_data_short = cc_news_data.select(list_indices_to_keep)\n",
    "cc_news_data_short"
   ]
  },
  {
   "cell_type": "code",
   "execution_count": 13,
   "metadata": {},
   "outputs": [],
   "source": [
    "# get 5 random samples from the dataset\n",
    "to_test = cc_news_data_short.shuffle().select(range(3))\n"
   ]
  },
  {
   "cell_type": "code",
   "execution_count": 14,
   "metadata": {},
   "outputs": [],
   "source": [
    "# get 5 random samples from the dataset\n",
    "to_test = cc_news_data_short.shuffle().select(range(3))\n"
   ]
  },
  {
   "cell_type": "code",
   "execution_count": 97,
   "metadata": {},
   "outputs": [
    {
     "name": "stdout",
     "output_type": "stream",
     "text": [
      "Actual description: Bradley, Red Sox complete sweep, Nationals fall below .500\n",
      "Predicted summary: [{'summary_text': \"– Struggling outfielder Jackie Bradley Jr. drove in two runs, Eduardo Rodriguez struck out six in six shutout innings, and the Boston Red Sox shut out the Washington Nationals 3-0 on Wednesday to complete a three-game sweep and send the preseason NL East favorites below .500. The Nationals (42-43) have lost five in a row to fall below .500 this late in the season for the first time since being 60-61 on Aug. 21, 2015. A throwing error by Adam Eaton on Bradley's\"}]\n",
      "\n",
      "\n",
      "Actual description: At Holland and Barrett they are now giving Free UK Delivery on all products sold on the hollandandbarrett.com website. Click to benefit from the Free UK\n",
      "Predicted summary: [{'summary_text': '– If you\\'re in the market for a new set of wheels, you could do a lot worse than pick up a set of wheels from Holland and Barrett. The health supplement retailer is currently offering half-price delivery on all its products in the UK, according to a post at bargainbarrett.com. Shoppers can also take advantage of the company\\'s \"Get One Get One Free\" offer.'}]\n",
      "\n",
      "\n",
      "Actual description: AbRam is having a whale of a time with his fam jam and the pictures are a proofGet latest Bollywood online at in.com\n",
      "Predicted summary: [{'summary_text': \"– Shah Rukh Khan's younger son, AbRam, is having a time of his life along with his parents and siblings— Aryan and Suhana—in Europe. Thanks to social media, we know that the entire family is on a vacation since past few days. Gauri Khan has been sharing some pictures from their holiday on her Instagram account and we cannot help but notice only AbRam for it clearly looks like that he is enjoying the most. A fresh picture from their vacay has made\"}]\n",
      "\n",
      "\n"
     ]
    }
   ],
   "source": [
    "for each in to_test:\n",
    "    sum = summarizer(each['text'], max_length=100, min_length=50)\n",
    "    print(f\"Actual description: {each['description']}\\nPredicted summary: {sum}\\n\\n\")"
   ]
  },
  {
   "cell_type": "code",
   "execution_count": 98,
   "metadata": {},
   "outputs": [],
   "source": [
    "references = []\n",
    "predictions = []\n",
    "for each in to_test:\n",
    "    references.append(each['description'])\n",
    "    predictions.append(summarizer(each['text'], max_length=100, min_length=50)[0]['summary_text'])\n",
    "    "
   ]
  },
  {
   "cell_type": "code",
   "execution_count": 99,
   "metadata": {},
   "outputs": [
    {
     "data": {
      "text/plain": [
       "['Bradley, Red Sox complete sweep, Nationals fall below .500',\n",
       " 'At Holland and Barrett they are now giving Free UK Delivery on all products sold on the hollandandbarrett.com website. Click to benefit from the Free UK',\n",
       " 'AbRam is having a whale of a time with his fam jam and the pictures are a proofGet latest Bollywood online at in.com']"
      ]
     },
     "execution_count": 99,
     "metadata": {},
     "output_type": "execute_result"
    }
   ],
   "source": [
    "references"
   ]
  },
  {
   "cell_type": "code",
   "execution_count": 100,
   "metadata": {},
   "outputs": [
    {
     "data": {
      "text/plain": [
       "[\"– Struggling outfielder Jackie Bradley Jr. drove in two runs, Eduardo Rodriguez struck out six in six shutout innings, and the Boston Red Sox shut out the Washington Nationals 3-0 on Wednesday to complete a three-game sweep and send the preseason NL East favorites below .500. The Nationals (42-43) have lost five in a row to fall below .500 this late in the season for the first time since being 60-61 on Aug. 21, 2015. A throwing error by Adam Eaton on Bradley's\",\n",
       " '– If you\\'re in the market for a new set of wheels, you could do a lot worse than pick up a set of wheels from Holland and Barrett. The health supplement retailer is currently offering half-price delivery on all its products in the UK, according to a post at bargainbarrett.com. Shoppers can also take advantage of the company\\'s \"Get One Get One Free\" offer.',\n",
       " \"– Shah Rukh Khan's younger son, AbRam, is having a time of his life along with his parents and siblings— Aryan and Suhana—in Europe. Thanks to social media, we know that the entire family is on a vacation since past few days. Gauri Khan has been sharing some pictures from their holiday on her Instagram account and we cannot help but notice only AbRam for it clearly looks like that he is enjoying the most. A fresh picture from their vacay has made\"]"
      ]
     },
     "execution_count": 100,
     "metadata": {},
     "output_type": "execute_result"
    }
   ],
   "source": [
    "predictions"
   ]
  },
  {
   "cell_type": "code",
   "execution_count": 101,
   "metadata": {},
   "outputs": [
    {
     "data": {
      "text/plain": [
       "{'rouge1': 0.2541829109811566,\n",
       " 'rouge2': 0.08139697175063203,\n",
       " 'rougeL': 0.20759421702404157,\n",
       " 'rougeLsum': 0.20759421702404157}"
      ]
     },
     "execution_count": 101,
     "metadata": {},
     "output_type": "execute_result"
    }
   ],
   "source": [
    "import evaluate\n",
    "\n",
    "rouge = evaluate.load(\"rouge\")\n",
    "\n",
    "rouge.compute(predictions=predictions, references=references)"
   ]
  }
 ],
 "metadata": {
  "kernelspec": {
   "display_name": "nlp-local-JrpFJHsc-py3.11",
   "language": "python",
   "name": "python3"
  },
  "language_info": {
   "codemirror_mode": {
    "name": "ipython",
    "version": 3
   },
   "file_extension": ".py",
   "mimetype": "text/x-python",
   "name": "python",
   "nbconvert_exporter": "python",
   "pygments_lexer": "ipython3",
   "version": "3.10.13"
  },
  "orig_nbformat": 4
 },
 "nbformat": 4,
 "nbformat_minor": 2
}
