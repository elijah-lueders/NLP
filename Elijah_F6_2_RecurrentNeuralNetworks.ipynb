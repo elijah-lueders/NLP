{
 "cells": [
  {
   "cell_type": "markdown",
   "metadata": {
    "id": "C192SOmJS6lw",
    "slideshow": {
     "slide_type": "slide"
    }
   },
   "source": [
    "# CS 195: Natural Language Processing\n",
    "## Recurrent Neural Networks\n",
    "\n",
    "[![Open In Colab](https://colab.research.google.com/assets/colab-badge.svg)](https://colab.research.google.com/github/ericmanley/f23-CS195NLP/blob/main/F6_2_RecurrentNeuralNetworks)"
   ]
  },
  {
   "cell_type": "markdown",
   "metadata": {},
   "source": []
  },
  {
   "cell_type": "markdown",
   "metadata": {
    "slideshow": {
     "slide_type": "slide"
    }
   },
   "source": [
    "## Announcement Update\n",
    "\n",
    "AI - English Faculty Candidate: Gabriel Ford\n",
    "\n",
    "Scholarly Presentation: Friday at 9:00am in Howard 309"
   ]
  },
  {
   "cell_type": "markdown",
   "metadata": {
    "slideshow": {
     "slide_type": "slide"
    }
   },
   "source": [
    "## Reference\n",
    "\n",
    "SLP: RNNs and LSTMs, Chapter 9 of Speech and Language Processing by Daniel Jurafsky & James H. Martin https://web.stanford.edu/~jurafsky/slp3/9.pdf\n",
    "\n",
    "Keras documentation for SimpleRNN Layer: https://keras.io/api/layers/recurrent_layers/simple_rnn/"
   ]
  },
  {
   "cell_type": "code",
   "execution_count": 2,
   "metadata": {},
   "outputs": [
    {
     "name": "stdout",
     "output_type": "stream",
     "text": [
      "Requirement already satisfied: datasets in /Users/elijahlueders/Library/Caches/pypoetry/virtualenvs/nlp-local-JrpFJHsc-py3.10/lib/python3.10/site-packages (2.14.5)\n",
      "Requirement already satisfied: keras in /Users/elijahlueders/Library/Caches/pypoetry/virtualenvs/nlp-local-JrpFJHsc-py3.10/lib/python3.10/site-packages (2.13.1)\n",
      "Requirement already satisfied: tensorflow in /Users/elijahlueders/Library/Caches/pypoetry/virtualenvs/nlp-local-JrpFJHsc-py3.10/lib/python3.10/site-packages (2.13.0)\n",
      "Requirement already satisfied: transformers in /Users/elijahlueders/Library/Caches/pypoetry/virtualenvs/nlp-local-JrpFJHsc-py3.10/lib/python3.10/site-packages (4.33.2)\n",
      "Requirement already satisfied: numpy>=1.17 in /Users/elijahlueders/Library/Caches/pypoetry/virtualenvs/nlp-local-JrpFJHsc-py3.10/lib/python3.10/site-packages (from datasets) (1.24.3)\n",
      "Requirement already satisfied: pyarrow>=8.0.0 in /Users/elijahlueders/Library/Caches/pypoetry/virtualenvs/nlp-local-JrpFJHsc-py3.10/lib/python3.10/site-packages (from datasets) (13.0.0)\n",
      "Requirement already satisfied: dill<0.3.8,>=0.3.0 in /Users/elijahlueders/Library/Caches/pypoetry/virtualenvs/nlp-local-JrpFJHsc-py3.10/lib/python3.10/site-packages (from datasets) (0.3.7)\n",
      "Requirement already satisfied: pandas in /Users/elijahlueders/Library/Caches/pypoetry/virtualenvs/nlp-local-JrpFJHsc-py3.10/lib/python3.10/site-packages (from datasets) (2.1.1)\n",
      "Requirement already satisfied: requests>=2.19.0 in /Users/elijahlueders/Library/Caches/pypoetry/virtualenvs/nlp-local-JrpFJHsc-py3.10/lib/python3.10/site-packages (from datasets) (2.31.0)\n",
      "Requirement already satisfied: tqdm>=4.62.1 in /Users/elijahlueders/Library/Caches/pypoetry/virtualenvs/nlp-local-JrpFJHsc-py3.10/lib/python3.10/site-packages (from datasets) (4.66.1)\n",
      "Requirement already satisfied: xxhash in /Users/elijahlueders/Library/Caches/pypoetry/virtualenvs/nlp-local-JrpFJHsc-py3.10/lib/python3.10/site-packages (from datasets) (3.3.0)\n",
      "Requirement already satisfied: multiprocess in /Users/elijahlueders/Library/Caches/pypoetry/virtualenvs/nlp-local-JrpFJHsc-py3.10/lib/python3.10/site-packages (from datasets) (0.70.15)\n",
      "Requirement already satisfied: fsspec[http]<2023.9.0,>=2023.1.0 in /Users/elijahlueders/Library/Caches/pypoetry/virtualenvs/nlp-local-JrpFJHsc-py3.10/lib/python3.10/site-packages (from datasets) (2023.6.0)\n",
      "Requirement already satisfied: aiohttp in /Users/elijahlueders/Library/Caches/pypoetry/virtualenvs/nlp-local-JrpFJHsc-py3.10/lib/python3.10/site-packages (from datasets) (3.8.5)\n",
      "Requirement already satisfied: huggingface-hub<1.0.0,>=0.14.0 in /Users/elijahlueders/Library/Caches/pypoetry/virtualenvs/nlp-local-JrpFJHsc-py3.10/lib/python3.10/site-packages (from datasets) (0.17.2)\n",
      "Requirement already satisfied: packaging in /Users/elijahlueders/Library/Caches/pypoetry/virtualenvs/nlp-local-JrpFJHsc-py3.10/lib/python3.10/site-packages (from datasets) (23.1)\n",
      "Requirement already satisfied: pyyaml>=5.1 in /Users/elijahlueders/Library/Caches/pypoetry/virtualenvs/nlp-local-JrpFJHsc-py3.10/lib/python3.10/site-packages (from datasets) (6.0.1)\n",
      "Requirement already satisfied: tensorflow-macos==2.13.0 in /Users/elijahlueders/Library/Caches/pypoetry/virtualenvs/nlp-local-JrpFJHsc-py3.10/lib/python3.10/site-packages (from tensorflow) (2.13.0)\n",
      "Requirement already satisfied: absl-py>=1.0.0 in /Users/elijahlueders/Library/Caches/pypoetry/virtualenvs/nlp-local-JrpFJHsc-py3.10/lib/python3.10/site-packages (from tensorflow-macos==2.13.0->tensorflow) (2.0.0)\n",
      "Requirement already satisfied: astunparse>=1.6.0 in /Users/elijahlueders/Library/Caches/pypoetry/virtualenvs/nlp-local-JrpFJHsc-py3.10/lib/python3.10/site-packages (from tensorflow-macos==2.13.0->tensorflow) (1.6.3)\n",
      "Requirement already satisfied: flatbuffers>=23.1.21 in /Users/elijahlueders/Library/Caches/pypoetry/virtualenvs/nlp-local-JrpFJHsc-py3.10/lib/python3.10/site-packages (from tensorflow-macos==2.13.0->tensorflow) (23.5.26)\n",
      "Requirement already satisfied: gast<=0.4.0,>=0.2.1 in /Users/elijahlueders/Library/Caches/pypoetry/virtualenvs/nlp-local-JrpFJHsc-py3.10/lib/python3.10/site-packages (from tensorflow-macos==2.13.0->tensorflow) (0.4.0)\n",
      "Requirement already satisfied: google-pasta>=0.1.1 in /Users/elijahlueders/Library/Caches/pypoetry/virtualenvs/nlp-local-JrpFJHsc-py3.10/lib/python3.10/site-packages (from tensorflow-macos==2.13.0->tensorflow) (0.2.0)\n",
      "Requirement already satisfied: h5py>=2.9.0 in /Users/elijahlueders/Library/Caches/pypoetry/virtualenvs/nlp-local-JrpFJHsc-py3.10/lib/python3.10/site-packages (from tensorflow-macos==2.13.0->tensorflow) (3.9.0)\n",
      "Requirement already satisfied: libclang>=13.0.0 in /Users/elijahlueders/Library/Caches/pypoetry/virtualenvs/nlp-local-JrpFJHsc-py3.10/lib/python3.10/site-packages (from tensorflow-macos==2.13.0->tensorflow) (16.0.6)\n",
      "Requirement already satisfied: opt-einsum>=2.3.2 in /Users/elijahlueders/Library/Caches/pypoetry/virtualenvs/nlp-local-JrpFJHsc-py3.10/lib/python3.10/site-packages (from tensorflow-macos==2.13.0->tensorflow) (3.3.0)\n",
      "Requirement already satisfied: protobuf!=4.21.0,!=4.21.1,!=4.21.2,!=4.21.3,!=4.21.4,!=4.21.5,<5.0.0dev,>=3.20.3 in /Users/elijahlueders/Library/Caches/pypoetry/virtualenvs/nlp-local-JrpFJHsc-py3.10/lib/python3.10/site-packages (from tensorflow-macos==2.13.0->tensorflow) (4.24.2)\n",
      "Requirement already satisfied: setuptools in /Users/elijahlueders/Library/Caches/pypoetry/virtualenvs/nlp-local-JrpFJHsc-py3.10/lib/python3.10/site-packages (from tensorflow-macos==2.13.0->tensorflow) (68.2.2)\n",
      "Requirement already satisfied: six>=1.12.0 in /Users/elijahlueders/Library/Caches/pypoetry/virtualenvs/nlp-local-JrpFJHsc-py3.10/lib/python3.10/site-packages (from tensorflow-macos==2.13.0->tensorflow) (1.16.0)\n",
      "Requirement already satisfied: termcolor>=1.1.0 in /Users/elijahlueders/Library/Caches/pypoetry/virtualenvs/nlp-local-JrpFJHsc-py3.10/lib/python3.10/site-packages (from tensorflow-macos==2.13.0->tensorflow) (2.3.0)\n",
      "Requirement already satisfied: typing-extensions<4.6.0,>=3.6.6 in /Users/elijahlueders/Library/Caches/pypoetry/virtualenvs/nlp-local-JrpFJHsc-py3.10/lib/python3.10/site-packages (from tensorflow-macos==2.13.0->tensorflow) (4.5.0)\n",
      "Requirement already satisfied: wrapt>=1.11.0 in /Users/elijahlueders/Library/Caches/pypoetry/virtualenvs/nlp-local-JrpFJHsc-py3.10/lib/python3.10/site-packages (from tensorflow-macos==2.13.0->tensorflow) (1.15.0)\n",
      "Requirement already satisfied: grpcio<2.0,>=1.24.3 in /Users/elijahlueders/Library/Caches/pypoetry/virtualenvs/nlp-local-JrpFJHsc-py3.10/lib/python3.10/site-packages (from tensorflow-macos==2.13.0->tensorflow) (1.57.0)\n",
      "Requirement already satisfied: tensorboard<2.14,>=2.13 in /Users/elijahlueders/Library/Caches/pypoetry/virtualenvs/nlp-local-JrpFJHsc-py3.10/lib/python3.10/site-packages (from tensorflow-macos==2.13.0->tensorflow) (2.13.0)\n",
      "Requirement already satisfied: tensorflow-estimator<2.14,>=2.13.0 in /Users/elijahlueders/Library/Caches/pypoetry/virtualenvs/nlp-local-JrpFJHsc-py3.10/lib/python3.10/site-packages (from tensorflow-macos==2.13.0->tensorflow) (2.13.0)\n",
      "Requirement already satisfied: filelock in /Users/elijahlueders/Library/Caches/pypoetry/virtualenvs/nlp-local-JrpFJHsc-py3.10/lib/python3.10/site-packages (from transformers) (3.12.4)\n",
      "Requirement already satisfied: regex!=2019.12.17 in /Users/elijahlueders/Library/Caches/pypoetry/virtualenvs/nlp-local-JrpFJHsc-py3.10/lib/python3.10/site-packages (from transformers) (2023.8.8)\n",
      "Requirement already satisfied: tokenizers!=0.11.3,<0.14,>=0.11.1 in /Users/elijahlueders/Library/Caches/pypoetry/virtualenvs/nlp-local-JrpFJHsc-py3.10/lib/python3.10/site-packages (from transformers) (0.13.3)\n",
      "Requirement already satisfied: safetensors>=0.3.1 in /Users/elijahlueders/Library/Caches/pypoetry/virtualenvs/nlp-local-JrpFJHsc-py3.10/lib/python3.10/site-packages (from transformers) (0.3.3)\n",
      "Requirement already satisfied: attrs>=17.3.0 in /Users/elijahlueders/Library/Caches/pypoetry/virtualenvs/nlp-local-JrpFJHsc-py3.10/lib/python3.10/site-packages (from aiohttp->datasets) (23.1.0)\n",
      "Requirement already satisfied: charset-normalizer<4.0,>=2.0 in /Users/elijahlueders/Library/Caches/pypoetry/virtualenvs/nlp-local-JrpFJHsc-py3.10/lib/python3.10/site-packages (from aiohttp->datasets) (3.2.0)\n",
      "Requirement already satisfied: multidict<7.0,>=4.5 in /Users/elijahlueders/Library/Caches/pypoetry/virtualenvs/nlp-local-JrpFJHsc-py3.10/lib/python3.10/site-packages (from aiohttp->datasets) (6.0.4)\n",
      "Requirement already satisfied: async-timeout<5.0,>=4.0.0a3 in /Users/elijahlueders/Library/Caches/pypoetry/virtualenvs/nlp-local-JrpFJHsc-py3.10/lib/python3.10/site-packages (from aiohttp->datasets) (4.0.3)\n",
      "Requirement already satisfied: yarl<2.0,>=1.0 in /Users/elijahlueders/Library/Caches/pypoetry/virtualenvs/nlp-local-JrpFJHsc-py3.10/lib/python3.10/site-packages (from aiohttp->datasets) (1.9.2)\n",
      "Requirement already satisfied: frozenlist>=1.1.1 in /Users/elijahlueders/Library/Caches/pypoetry/virtualenvs/nlp-local-JrpFJHsc-py3.10/lib/python3.10/site-packages (from aiohttp->datasets) (1.4.0)\n",
      "Requirement already satisfied: aiosignal>=1.1.2 in /Users/elijahlueders/Library/Caches/pypoetry/virtualenvs/nlp-local-JrpFJHsc-py3.10/lib/python3.10/site-packages (from aiohttp->datasets) (1.3.1)\n",
      "Requirement already satisfied: idna<4,>=2.5 in /Users/elijahlueders/Library/Caches/pypoetry/virtualenvs/nlp-local-JrpFJHsc-py3.10/lib/python3.10/site-packages (from requests>=2.19.0->datasets) (3.4)\n",
      "Requirement already satisfied: urllib3<3,>=1.21.1 in /Users/elijahlueders/Library/Caches/pypoetry/virtualenvs/nlp-local-JrpFJHsc-py3.10/lib/python3.10/site-packages (from requests>=2.19.0->datasets) (1.26.18)\n",
      "Requirement already satisfied: certifi>=2017.4.17 in /Users/elijahlueders/Library/Caches/pypoetry/virtualenvs/nlp-local-JrpFJHsc-py3.10/lib/python3.10/site-packages (from requests>=2.19.0->datasets) (2023.7.22)\n",
      "Requirement already satisfied: python-dateutil>=2.8.2 in /Users/elijahlueders/Library/Caches/pypoetry/virtualenvs/nlp-local-JrpFJHsc-py3.10/lib/python3.10/site-packages (from pandas->datasets) (2.8.2)\n",
      "Requirement already satisfied: pytz>=2020.1 in /Users/elijahlueders/Library/Caches/pypoetry/virtualenvs/nlp-local-JrpFJHsc-py3.10/lib/python3.10/site-packages (from pandas->datasets) (2023.3.post1)\n",
      "Requirement already satisfied: tzdata>=2022.1 in /Users/elijahlueders/Library/Caches/pypoetry/virtualenvs/nlp-local-JrpFJHsc-py3.10/lib/python3.10/site-packages (from pandas->datasets) (2023.3)\n",
      "Requirement already satisfied: wheel<1.0,>=0.23.0 in /Users/elijahlueders/Library/Caches/pypoetry/virtualenvs/nlp-local-JrpFJHsc-py3.10/lib/python3.10/site-packages (from astunparse>=1.6.0->tensorflow-macos==2.13.0->tensorflow) (0.41.2)\n",
      "Requirement already satisfied: google-auth<3,>=1.6.3 in /Users/elijahlueders/Library/Caches/pypoetry/virtualenvs/nlp-local-JrpFJHsc-py3.10/lib/python3.10/site-packages (from tensorboard<2.14,>=2.13->tensorflow-macos==2.13.0->tensorflow) (2.22.0)\n",
      "Requirement already satisfied: google-auth-oauthlib<1.1,>=0.5 in /Users/elijahlueders/Library/Caches/pypoetry/virtualenvs/nlp-local-JrpFJHsc-py3.10/lib/python3.10/site-packages (from tensorboard<2.14,>=2.13->tensorflow-macos==2.13.0->tensorflow) (1.0.0)\n",
      "Requirement already satisfied: markdown>=2.6.8 in /Users/elijahlueders/Library/Caches/pypoetry/virtualenvs/nlp-local-JrpFJHsc-py3.10/lib/python3.10/site-packages (from tensorboard<2.14,>=2.13->tensorflow-macos==2.13.0->tensorflow) (3.4.4)\n",
      "Requirement already satisfied: tensorboard-data-server<0.8.0,>=0.7.0 in /Users/elijahlueders/Library/Caches/pypoetry/virtualenvs/nlp-local-JrpFJHsc-py3.10/lib/python3.10/site-packages (from tensorboard<2.14,>=2.13->tensorflow-macos==2.13.0->tensorflow) (0.7.1)\n",
      "Requirement already satisfied: werkzeug>=1.0.1 in /Users/elijahlueders/Library/Caches/pypoetry/virtualenvs/nlp-local-JrpFJHsc-py3.10/lib/python3.10/site-packages (from tensorboard<2.14,>=2.13->tensorflow-macos==2.13.0->tensorflow) (2.3.7)\n",
      "Requirement already satisfied: cachetools<6.0,>=2.0.0 in /Users/elijahlueders/Library/Caches/pypoetry/virtualenvs/nlp-local-JrpFJHsc-py3.10/lib/python3.10/site-packages (from google-auth<3,>=1.6.3->tensorboard<2.14,>=2.13->tensorflow-macos==2.13.0->tensorflow) (5.3.1)\n",
      "Requirement already satisfied: pyasn1-modules>=0.2.1 in /Users/elijahlueders/Library/Caches/pypoetry/virtualenvs/nlp-local-JrpFJHsc-py3.10/lib/python3.10/site-packages (from google-auth<3,>=1.6.3->tensorboard<2.14,>=2.13->tensorflow-macos==2.13.0->tensorflow) (0.3.0)\n",
      "Requirement already satisfied: rsa<5,>=3.1.4 in /Users/elijahlueders/Library/Caches/pypoetry/virtualenvs/nlp-local-JrpFJHsc-py3.10/lib/python3.10/site-packages (from google-auth<3,>=1.6.3->tensorboard<2.14,>=2.13->tensorflow-macos==2.13.0->tensorflow) (4.9)\n",
      "Requirement already satisfied: requests-oauthlib>=0.7.0 in /Users/elijahlueders/Library/Caches/pypoetry/virtualenvs/nlp-local-JrpFJHsc-py3.10/lib/python3.10/site-packages (from google-auth-oauthlib<1.1,>=0.5->tensorboard<2.14,>=2.13->tensorflow-macos==2.13.0->tensorflow) (1.3.1)\n",
      "Requirement already satisfied: MarkupSafe>=2.1.1 in /Users/elijahlueders/Library/Caches/pypoetry/virtualenvs/nlp-local-JrpFJHsc-py3.10/lib/python3.10/site-packages (from werkzeug>=1.0.1->tensorboard<2.14,>=2.13->tensorflow-macos==2.13.0->tensorflow) (2.1.3)\n",
      "Requirement already satisfied: pyasn1<0.6.0,>=0.4.6 in /Users/elijahlueders/Library/Caches/pypoetry/virtualenvs/nlp-local-JrpFJHsc-py3.10/lib/python3.10/site-packages (from pyasn1-modules>=0.2.1->google-auth<3,>=1.6.3->tensorboard<2.14,>=2.13->tensorflow-macos==2.13.0->tensorflow) (0.5.0)\n",
      "Requirement already satisfied: oauthlib>=3.0.0 in /Users/elijahlueders/Library/Caches/pypoetry/virtualenvs/nlp-local-JrpFJHsc-py3.10/lib/python3.10/site-packages (from requests-oauthlib>=0.7.0->google-auth-oauthlib<1.1,>=0.5->tensorboard<2.14,>=2.13->tensorflow-macos==2.13.0->tensorflow) (3.2.2)\n",
      "\n",
      "\u001b[1m[\u001b[0m\u001b[34;49mnotice\u001b[0m\u001b[1;39;49m]\u001b[0m\u001b[39;49m A new release of pip is available: \u001b[0m\u001b[31;49m23.2.1\u001b[0m\u001b[39;49m -> \u001b[0m\u001b[32;49m23.3.1\u001b[0m\n",
      "\u001b[1m[\u001b[0m\u001b[34;49mnotice\u001b[0m\u001b[1;39;49m]\u001b[0m\u001b[39;49m To update, run: \u001b[0m\u001b[32;49mpip install --upgrade pip\u001b[0m\n"
     ]
    }
   ],
   "source": [
    "import sys\n",
    "!{sys.executable} -m pip install datasets keras tensorflow transformers"
   ]
  },
  {
   "attachments": {},
   "cell_type": "markdown",
   "metadata": {
    "slideshow": {
     "slide_type": "slide"
    }
   },
   "source": [
    "## Recurrent Neural Networks (RNN)\n",
    "\n",
    "A **recurrent neural network** is a neural network with a loop inside of it - some of the outputs in one layer become inputs of the same or an earlier layer\n",
    "\n",
    "<div>\n",
    "    <img src=\"images/RNN_highlevel.png\">\n",
    "</div>\n",
    "\n",
    "* $x_{t}$: neural network input at time $t$\n",
    "* $h_{t}$: hidden layer state at time $t$\n",
    "* $y_{t}$: output layer state at time $t$\n",
    "\n",
    "*Allows information from past inputs to affect current predictions*\n",
    "\n",
    "\n",
    "image source: SLP Fig. 9.1, https://web.stanford.edu/~jurafsky/slp3/9.pdf"
   ]
  },
  {
   "cell_type": "markdown",
   "metadata": {
    "slideshow": {
     "slide_type": "slide"
    }
   },
   "source": [
    "## RNN visualized as a feedforward network\n",
    "\n",
    "In this image, the inputs are shown on bottom and the outputs on top\n",
    "\n",
    "<div>\n",
    "    <img src=\"images/RNN_as_feedforward.png\" width=400>\n",
    "</div>\n",
    "\n",
    "* $h_{t-1}$: hidden layer state at time $t-1$ is an input to $h_{t}$\n",
    "\n",
    "\n",
    "image source: SLP Fig. 9.2, https://web.stanford.edu/~jurafsky/slp3/9.pdf"
   ]
  },
  {
   "cell_type": "markdown",
   "metadata": {
    "slideshow": {
     "slide_type": "slide"
    }
   },
   "source": [
    "## RNN \"unrolled\" in time\n",
    "\n",
    "Later outputs continue to be influenced by the entire sequence\n",
    "\n",
    "<div>\n",
    "    <img src=\"images/RNN_unroll.png\" width=500>\n",
    "</div>\n",
    "\n",
    "\n",
    "image source: SLP Fig. 9.4, https://web.stanford.edu/~jurafsky/slp3/9.pdf"
   ]
  },
  {
   "cell_type": "markdown",
   "metadata": {
    "slideshow": {
     "slide_type": "slide"
    }
   },
   "source": [
    "## Coding up a simple RNN in Keras\n",
    "\n",
    "Defining a Recurrent layer is similar to defining a Dense layer\n",
    "\n",
    "`return_sequences=False` for now, we don't want to return the entire sequence, just the last output \n",
    "\n",
    "`stateful=False` allows the state from one **batch** to carry over to the next"
   ]
  },
  {
   "cell_type": "code",
   "execution_count": 25,
   "metadata": {},
   "outputs": [
    {
     "ename": "NameError",
     "evalue": "name '_embedding_bag_forward_only' is not defined",
     "output_type": "error",
     "traceback": [
      "\u001b[0;31m---------------------------------------------------------------------------\u001b[0m",
      "\u001b[0;31mNameError\u001b[0m                                 Traceback (most recent call last)",
      "\u001b[1;32m/Users/elijahlueders/git/nlp_local/Elijah_F6_2_RecurrentNeuralNetworks.ipynb Cell 10\u001b[0m line \u001b[0;36m4\n\u001b[1;32m      <a href='vscode-notebook-cell:/Users/elijahlueders/git/nlp_local/Elijah_F6_2_RecurrentNeuralNetworks.ipynb#X11sZmlsZQ%3D%3D?line=1'>2</a>\u001b[0m \u001b[39m# A feedforward network with one hidden layer\u001b[39;00m\n\u001b[1;32m      <a href='vscode-notebook-cell:/Users/elijahlueders/git/nlp_local/Elijah_F6_2_RecurrentNeuralNetworks.ipynb#X11sZmlsZQ%3D%3D?line=2'>3</a>\u001b[0m model \u001b[39m=\u001b[39m models\u001b[39m.\u001b[39mSequential()\n\u001b[0;32m----> <a href='vscode-notebook-cell:/Users/elijahlueders/git/nlp_local/Elijah_F6_2_RecurrentNeuralNetworks.ipynb#X11sZmlsZQ%3D%3D?line=3'>4</a>\u001b[0m model\u001b[39m.\u001b[39madd(_embedding_bag_forward_only(input_dim\u001b[39m=\u001b[39mvocabulary_size, output_dim\u001b[39m=\u001b[39m\u001b[39m50\u001b[39m, input_length\u001b[39m=\u001b[39msequence_length)) \n\u001b[1;32m      <a href='vscode-notebook-cell:/Users/elijahlueders/git/nlp_local/Elijah_F6_2_RecurrentNeuralNetworks.ipynb#X11sZmlsZQ%3D%3D?line=4'>5</a>\u001b[0m model\u001b[39m.\u001b[39madd(Flatten())\n\u001b[1;32m      <a href='vscode-notebook-cell:/Users/elijahlueders/git/nlp_local/Elijah_F6_2_RecurrentNeuralNetworks.ipynb#X11sZmlsZQ%3D%3D?line=5'>6</a>\u001b[0m model\u001b[39m.\u001b[39madd(Dense(\u001b[39m100\u001b[39m, activation\u001b[39m=\u001b[39m\u001b[39m\"\u001b[39m\u001b[39mrelu\u001b[39m\u001b[39m\"\u001b[39m))\n",
      "\u001b[0;31mNameError\u001b[0m: name '_embedding_bag_forward_only' is not defined"
     ]
    }
   ],
   "source": [
    "import keras.models as models\n",
    "# A feedforward network with one hidden layer\n",
    "model = models.Sequential()\n",
    "model.add(_embedding_bag_forward_only(input_dim=vocabulary_size, output_dim=50, input_length=sequence_length)) \n",
    "model.add(Flatten())\n",
    "model.add(Dense(100, activation=\"relu\"))\n",
    "model.add(Dense(vocabulary_size, activation='softmax'))\n",
    "\n",
    "# A recurrent network with one layer\n",
    "model = Sequential()\n",
    "model.add(Embedding(input_dim=vocabulary_size, output_dim=50, input_length=sequence_length)) \n",
    "model.add(SimpleRNN(100,return_sequences=False,stateful=False))\n",
    "model.add(Dense(vocabulary_size, activation='softmax'))\n"
   ]
  },
  {
   "cell_type": "markdown",
   "metadata": {},
   "source": [
    "### Exercise\n",
    "\n",
    "Copy in your code from the non-recurrent neural language model from last time, and replace the Flatten+Dense layer with a SimpleRNN layer like above. \n",
    "* Use the same dataset, `ag_news`, prepared in the same way\n",
    "* Run it with small enough subset to train within a few minutes\n",
    "\n",
    "How do the performances compare?"
   ]
  },
  {
   "cell_type": "code",
   "execution_count": 34,
   "metadata": {},
   "outputs": [
    {
     "name": "stdout",
     "output_type": "stream",
     "text": [
      "Vocabulary size: 10026\n"
     ]
    }
   ],
   "source": [
    "from keras.models import Sequential\n",
    "from keras.layers import Dense, Embedding, Flatten\n",
    "from keras.utils import to_categorical\n",
    "from keras.utils import pad_sequences\n",
    "from keras.preprocessing.text import Tokenizer\n",
    "from datasets import load_dataset\n",
    "from sklearn.model_selection import train_test_split\n",
    "import numpy as np\n",
    "import random\n",
    "\n",
    "data = load_dataset(\"ag_news\")\n",
    "\n",
    "data_subset, _ = train_test_split(data[\"train\"][\"text\"],train_size=1500)\n",
    "train_data, test_data = train_test_split(data_subset,train_size=0.8)\n",
    "\n",
    "# Prepare the tokenizer and fit on the training text\n",
    "tokenizer = Tokenizer()\n",
    "tokenizer.fit_on_texts(data_subset)\n",
    "vocabulary_size = len(tokenizer.word_index) + 1\n",
    "print(\"Vocabulary size:\",vocabulary_size)\n",
    "\n",
    "# # Convert text to sequences of integers\n",
    "# train_texts = tokenizer.texts_to_sequences(train_data)\n",
    "\n",
    "\n"
   ]
  },
  {
   "cell_type": "code",
   "execution_count": 35,
   "metadata": {},
   "outputs": [],
   "source": [
    "sequence_length = 1\n",
    "\n",
    "def prepare_data(data, seq_len, tokenizer):\n",
    "    texts = tokenizer.texts_to_sequences(data)\n",
    "    vocabulary_size = len(tokenizer.word_index) + 1\n",
    "    \n",
    "    # Create the sequences\n",
    "    predictor_sequences = []\n",
    "    targets = []\n",
    "    for text in texts:\n",
    "        for i in range(seq_len, len(text)):\n",
    "            # Take the sequence of tokens as input and the next token as target\n",
    "            curr_target = text[i]\n",
    "            curr_predictor_sequence = text[i-seq_len:i]\n",
    "            predictor_sequences.append(curr_predictor_sequence)\n",
    "            targets.append(curr_target)\n",
    "            \n",
    "    # Pad sequences to ensure uniform length\n",
    "    predictor_sequences_padded = pad_sequences(predictor_sequences, maxlen=seq_len, padding='pre')\n",
    "\n",
    "    # Convert target to one-hot encoding\n",
    "    target_word_one_hot = to_categorical(targets, num_classes=vocabulary_size)\n",
    "\n",
    "    return predictor_sequences_padded, target_word_one_hot"
   ]
  },
  {
   "cell_type": "code",
   "execution_count": 36,
   "metadata": {},
   "outputs": [],
   "source": [
    "\n",
    "predictor_sequences_padded_train, target_word_one_hot_train = prepare_data(train_data, sequence_length, tokenizer)\n",
    "predictor_sequences_padded_test, target_word_one_hot_test = prepare_data(test_data, sequence_length, tokenizer)"
   ]
  },
  {
   "cell_type": "code",
   "execution_count": 37,
   "metadata": {},
   "outputs": [
    {
     "name": "stdout",
     "output_type": "stream",
     "text": [
      "Epoch 1/5\n",
      "1435/1435 [==============================] - 10s 6ms/step - loss: 7.7427 - accuracy: 0.0522 - val_loss: 7.5576 - val_accuracy: 0.0611\n",
      "Epoch 2/5\n",
      "1435/1435 [==============================] - 9s 6ms/step - loss: 6.9314 - accuracy: 0.0835 - val_loss: 7.4533 - val_accuracy: 0.0848\n",
      "Epoch 3/5\n",
      "1435/1435 [==============================] - 9s 6ms/step - loss: 6.4411 - accuracy: 0.1152 - val_loss: 7.4703 - val_accuracy: 0.1017\n",
      "Epoch 4/5\n",
      "1435/1435 [==============================] - 9s 6ms/step - loss: 5.9784 - accuracy: 0.1481 - val_loss: 7.5697 - val_accuracy: 0.1082\n",
      "Epoch 5/5\n",
      "1435/1435 [==============================] - 9s 6ms/step - loss: 5.5486 - accuracy: 0.1784 - val_loss: 7.7200 - val_accuracy: 0.1156\n"
     ]
    },
    {
     "data": {
      "text/plain": [
       "<keras.src.callbacks.History at 0x11f8105b0>"
      ]
     },
     "execution_count": 37,
     "metadata": {},
     "output_type": "execute_result"
    }
   ],
   "source": [
    "from keras.layers import SimpleRNN\n",
    "# Define the model\n",
    "model = Sequential()\n",
    "model.add(Embedding(input_dim=vocabulary_size, output_dim=50, input_length=sequence_length))\n",
    "# model.add(Flatten())\n",
    "# model.add(Dense(100, activation=\"relu\"))\n",
    "model.add(SimpleRNN(100,return_sequences=False,stateful=False))\n",
    "model.add(Dense(vocabulary_size, activation='softmax'))\n",
    "\n",
    "# Compile the model\n",
    "model.compile(loss='categorical_crossentropy', optimizer='adam', metrics=['accuracy'])\n",
    "\n",
    "# Fit the model - you can also pass in the test set\n",
    "model.fit(predictor_sequences_padded_train, target_word_one_hot_train, epochs=5, verbose=1, validation_data=(predictor_sequences_padded_test, target_word_one_hot_test))\n",
    "\n",
    "# The model can now be used to predict the next word in a sequence"
   ]
  },
  {
   "cell_type": "code",
   "execution_count": 38,
   "metadata": {},
   "outputs": [
    {
     "name": "stdout",
     "output_type": "stream",
     "text": [
      "363/363 [==============================] - 1s 2ms/step - loss: 7.7200 - accuracy: 0.1156\n",
      "Test accuracy: 11.56%\n"
     ]
    }
   ],
   "source": [
    "loss, accuracy = model.evaluate(predictor_sequences_padded_test, target_word_one_hot_test)\n",
    "print(f\"Test accuracy: {accuracy*100:.2f}%\")"
   ]
  },
  {
   "cell_type": "markdown",
   "metadata": {
    "slideshow": {
     "slide_type": "slide"
    }
   },
   "source": [
    "## Reducing your context window\n",
    "\n",
    "Because of the sequential nature of the RNN layer, you don't need to pass in as big of a context window.\n",
    "\n",
    "<div>\n",
    "    <img src=\"images/RNN_context_simplification.png\" width=500>\n",
    "</div>\n",
    "\n",
    "\n",
    "image source: SLP Fig. 9.5, https://web.stanford.edu/~jurafsky/slp3/9.pdf\n",
    "\n"
   ]
  },
  {
   "cell_type": "markdown",
   "metadata": {
    "slideshow": {
     "slide_type": "fragment"
    }
   },
   "source": [
    "<div>\n",
    "    <img src=\"images/RNN_languagemodeling.png\" width=700>\n",
    "</div>\n",
    "\n",
    "### Exercise\n",
    "\n",
    "Reduce your `sequence_length` to 1. Train and test again.\n",
    "\n",
    "How do the results compare?\n",
    "\n",
    "\n",
    "image source: SLP Fig. 9.6, https://web.stanford.edu/~jurafsky/slp3/9.pdf"
   ]
  },
  {
   "cell_type": "markdown",
   "metadata": {
    "slideshow": {
     "slide_type": "slide"
    }
   },
   "source": [
    "## Generating Text\n",
    "\n",
    "\n",
    "\n",
    "\n",
    "Our Keras RNN-based neural language model doesn't do a great job of generating text\n",
    "\n",
    "### Exercise: \n",
    "\n",
    "Try it with this text generation code from last time"
   ]
  },
  {
   "cell_type": "code",
   "execution_count": 42,
   "metadata": {},
   "outputs": [
    {
     "name": "stdout",
     "output_type": "stream",
     "text": [
      "first time in the first time in the first time in the first time in the first time in the first time in the first time in the first time in the first time in the first time in the first time in the first time in the first time "
     ]
    }
   ],
   "source": [
    "starter_string = \"the\"\n",
    "tokens_list = tokenizer.texts_to_sequences([starter_string])\n",
    "tokens = tokens_list[0]\n",
    "\n",
    "for i in range(50):\n",
    "    curr_seq = tokens[-sequence_length:]\n",
    "    curr_array = np.array([curr_seq])\n",
    "    predicted_probabilities = model.predict(curr_array,verbose=0)\n",
    "    predicted_index = np.argmax(predicted_probabilities)\n",
    "    predicted_word = tokenizer.index_word[predicted_index]\n",
    "    print(predicted_word+\" \",end=\"\")\n",
    "    tokens.append(predicted_index)"
   ]
  },
  {
   "cell_type": "markdown",
   "metadata": {},
   "source": [
    "**One problem:** Keras will reset the state every time you make a call to `model.predict` so we lose the benefit of recurrence."
   ]
  },
  {
   "cell_type": "markdown",
   "metadata": {
    "slideshow": {
     "slide_type": "slide"
    }
   },
   "source": [
    "## Exerting more control over when the state gets reset\n",
    "\n",
    "If your model uses the `stateful=True` parameter on the recurrent layer, you get more control over when to reset the state.\n",
    "* Downside: it's more of a pain to train the network like that\n",
    "\n",
    "*A workaround:* create another model with the same architecture except for `stateful` and copy the weights"
   ]
  },
  {
   "cell_type": "code",
   "execution_count": 43,
   "metadata": {},
   "outputs": [],
   "source": [
    "# Create a new model with the same architecture but with stateful RNNs\n",
    "stateful_model = Sequential()\n",
    "stateful_model.add(Embedding(input_dim=vocabulary_size, output_dim=50, batch_input_shape=(1, sequence_length))) #batch size of 1\n",
    "stateful_model.add(SimpleRNN(100,return_sequences=False,stateful=True))\n",
    "stateful_model.add(Dense(vocabulary_size, activation='softmax'))\n",
    "\n",
    "# Load the weights from your trained model\n",
    "stateful_model.set_weights(model.get_weights())\n",
    "\n",
    "# Compile the stateful model (required to make predictions)\n",
    "stateful_model.compile(loss='categorical_crossentropy', optimizer='adam')"
   ]
  },
  {
   "cell_type": "code",
   "execution_count": 3,
   "metadata": {},
   "outputs": [
    {
     "ename": "NameError",
     "evalue": "name 'tokenizer' is not defined",
     "output_type": "error",
     "traceback": [
      "\u001b[0;31m---------------------------------------------------------------------------\u001b[0m",
      "\u001b[0;31mNameError\u001b[0m                                 Traceback (most recent call last)",
      "\u001b[1;32m/Users/elijahlueders/git/nlp_local/Elijah_F6_2_RecurrentNeuralNetworks.ipynb Cell 24\u001b[0m line \u001b[0;36m2\n\u001b[1;32m      <a href='vscode-notebook-cell:/Users/elijahlueders/git/nlp_local/Elijah_F6_2_RecurrentNeuralNetworks.ipynb#X23sZmlsZQ%3D%3D?line=0'>1</a>\u001b[0m starter_string \u001b[39m=\u001b[39m \u001b[39m\"\u001b[39m\u001b[39mthe\u001b[39m\u001b[39m\"\u001b[39m\n\u001b[0;32m----> <a href='vscode-notebook-cell:/Users/elijahlueders/git/nlp_local/Elijah_F6_2_RecurrentNeuralNetworks.ipynb#X23sZmlsZQ%3D%3D?line=1'>2</a>\u001b[0m tokens_list \u001b[39m=\u001b[39m tokenizer\u001b[39m.\u001b[39mtexts_to_sequences([starter_string])\n\u001b[1;32m      <a href='vscode-notebook-cell:/Users/elijahlueders/git/nlp_local/Elijah_F6_2_RecurrentNeuralNetworks.ipynb#X23sZmlsZQ%3D%3D?line=2'>3</a>\u001b[0m tokens \u001b[39m=\u001b[39m tokens_list[\u001b[39m0\u001b[39m]\n\u001b[1;32m      <a href='vscode-notebook-cell:/Users/elijahlueders/git/nlp_local/Elijah_F6_2_RecurrentNeuralNetworks.ipynb#X23sZmlsZQ%3D%3D?line=4'>5</a>\u001b[0m \u001b[39m#do this anytime you want to reset the states - for generating a brand new sequence\u001b[39;00m\n",
      "\u001b[0;31mNameError\u001b[0m: name 'tokenizer' is not defined"
     ]
    }
   ],
   "source": [
    "starter_string = \"the\"\n",
    "tokens_list = tokenizer.texts_to_sequences([starter_string])\n",
    "tokens = tokens_list[0]\n",
    "\n",
    "#do this anytime you want to reset the states - for generating a brand new sequence\n",
    "stateful_model.reset_states()\n",
    "\n",
    "for i in range(50):\n",
    "    curr_seq = tokens[-sequence_length:]\n",
    "    curr_array = np.array([curr_seq])\n",
    "    predicted_probabilities = stateful_model.predict(curr_array,verbose=0)\n",
    "    predicted_index = np.argmax(predicted_probabilities)\n",
    "    predicted_word = tokenizer.index_word[predicted_index]\n",
    "    print(predicted_word+\" \",end=\"\")\n",
    "    tokens.append(predicted_index)"
   ]
  },
  {
   "cell_type": "markdown",
   "metadata": {
    "slideshow": {
     "slide_type": "slide"
    }
   },
   "source": [
    "## Training a stateful model\n",
    "\n",
    "Keras makes you work a little harder if you want to train a stateful model from the start\n",
    "* Organize your sequences into batches \n",
    "* All batches need to be the same size (say 32 or 64)\n",
    "\n",
    "Might be appropriate if\n",
    "* You have several long documents \n",
    "* Each document takes multiple batches\n",
    "* You *don't* want to reset states between batches\n",
    "* You *do* want to reset states between documents"
   ]
  },
  {
   "cell_type": "markdown",
   "metadata": {
    "slideshow": {
     "slide_type": "slide"
    }
   },
   "source": [
    "## Throwback to a data set we worked with previously\n",
    "\n",
    "This example is going to do a couple of things\n",
    "* use The Adventures of Sherlock Holmes corpus we download from Project Gutenberg\n",
    "* use the WordPiece tokenizer from Hugging Face\n",
    "    * I want to keep around things like punctuation which gets removed by the Keras tokenizer\n",
    "    * I want to show you how you can mix different tokenizers with Keras models"
   ]
  },
  {
   "cell_type": "code",
   "execution_count": 20,
   "metadata": {},
   "outputs": [
    {
     "name": "stderr",
     "output_type": "stream",
     "text": [
      "Token indices sequence length is longer than the specified maximum sequence length for this model (143245 > 512). Running this sequence through the model will result in indexing errors\n"
     ]
    },
    {
     "name": "stdout",
     "output_type": "stream",
     "text": [
      "Here's a sample of the tokenized text:\n",
      "['tall', ',', 'spare', 'figure', 'pass', 'twice', 'in', 'a', 'dark', 'silhouette', 'against', 'the', 'blind', '.', 'He', 'was', 'pacing', 'the', 'room', 'swiftly']\n",
      "\n",
      "Here's the text's ids\n",
      "[3543, 117, 8608, 2482, 2789, 3059, 1107, 170, 1843, 27316, 1222, 1103, 7198, 119, 1124, 1108, 17218, 1103, 1395, 12476]\n",
      "Vocabulary size:\n",
      "28996\n"
     ]
    }
   ],
   "source": [
    "import requests\n",
    "from transformers import AutoTokenizer\n",
    "\n",
    "tokenizer = AutoTokenizer.from_pretrained(\"bert-base-cased\")\n",
    "\n",
    "response = requests.get(\"https://www.gutenberg.org/files/1661/1661-0.txt\")\n",
    "jane_austen_raw_text = response.text\n",
    "\n",
    "jane_austen_tokens = tokenizer.tokenize( jane_austen_raw_text )\n",
    "\n",
    "jane_austen_tokens = jane_austen_tokens[:10000] #let's limit the size of the text for this workshop\n",
    "\n",
    "print(\"Here's a sample of the tokenized text:\")\n",
    "print(jane_austen_tokens[1000:1020])\n",
    "\n",
    "holmes_token_ids = tokenizer.convert_tokens_to_ids(jane_austen_tokens )\n",
    "print(\"\\nHere's the text's ids\")\n",
    "print(holmes_token_ids[1000:1020])\n",
    "\n",
    "print(\"Vocabulary size:\")\n",
    "print(len(tokenizer.vocab))\n",
    "vocabulary_size = len(tokenizer.vocab)"
   ]
  },
  {
   "cell_type": "code",
   "execution_count": 21,
   "metadata": {},
   "outputs": [
    {
     "name": "stdout",
     "output_type": "stream",
     "text": [
      "Here's a sample of the tokenized text:\n",
      "['by', 'any', 'charge', 'on', 'the', 'estate', ',', 'or', 'by', 'any', 'sale', 'of', 'its', 'valuable', 'woods', '.', 'The', 'whole', 'was', 'tied']\n",
      "\n",
      "Here's the text's ids\n",
      "[1118, 1251, 2965, 1113, 1103, 3327, 117, 1137, 1118, 1251, 4688, 1104, 1157, 7468, 6269, 119, 1109, 2006, 1108, 4353]\n",
      "Vocabulary size:\n",
      "28996\n"
     ]
    }
   ],
   "source": [
    "\n",
    "response = requests.get(\"https://www.gutenberg.org/files/161/161-0.txt\")\n",
    "jane_austen_raw_text = response.text\n",
    "\n",
    "jane_austen_tokens = tokenizer.tokenize( jane_austen_raw_text )\n",
    "\n",
    "jane_austen_tokens = jane_austen_tokens[:10000] #let's limit the size of the text for this workshop\n",
    "\n",
    "print(\"Here's a sample of the tokenized text:\")\n",
    "print(jane_austen_tokens[1000:1020])\n",
    "\n",
    "austen_token_ids = tokenizer.convert_tokens_to_ids(jane_austen_tokens )\n",
    "print(\"\\nHere's the text's ids\")\n",
    "print(austen_token_ids[1000:1020])\n",
    "\n",
    "print(\"Vocabulary size:\")\n",
    "print(len(tokenizer.vocab))\n",
    "vocabulary_size = len(tokenizer.vocab)\n"
   ]
  },
  {
   "cell_type": "markdown",
   "metadata": {
    "slideshow": {
     "slide_type": "fragment"
    }
   },
   "source": [
    "### Preparing the list of predictor/target pairs like before"
   ]
  },
  {
   "cell_type": "code",
   "execution_count": 5,
   "metadata": {},
   "outputs": [],
   "source": [
    "from keras.models import Sequential\n",
    "from keras.layers import Dense, Embedding, Flatten, SimpleRNN\n",
    "from keras.utils import to_categorical\n",
    "from keras.utils import pad_sequences\n",
    "from datasets import load_dataset\n",
    "from sklearn.model_selection import train_test_split\n",
    "import numpy as np\n",
    "import random\n",
    "\n",
    "\n",
    "sequence_length = 1\n",
    "batch_size = 32\n",
    "\n",
    "predictor_sequences = []\n",
    "targets = []\n",
    "for i in range(sequence_length, len(token_ids)):\n",
    "    # Take the sequence of tokens as input and the next token as target\n",
    "    curr_target = token_ids[i]\n",
    "    curr_predictor_sequence = token_ids[i-sequence_length:i]\n",
    "    predictor_sequences.append(curr_predictor_sequence)\n",
    "    targets.append(curr_target)\n",
    "\n",
    "# Convert target to one-hot encoding\n",
    "targets_one_hot = to_categorical(targets, num_classes=vocabulary_size)"
   ]
  },
  {
   "cell_type": "markdown",
   "metadata": {
    "slideshow": {
     "slide_type": "fragment"
    }
   },
   "source": [
    "### Grouping the sequences into batches of 32\n",
    "\n",
    "This adds an extra dimension to our data"
   ]
  },
  {
   "cell_type": "code",
   "execution_count": 6,
   "metadata": {},
   "outputs": [
    {
     "name": "stdout",
     "output_type": "stream",
     "text": [
      "before batching\n",
      "[[  261]\n",
      " [  221]\n",
      " [  225]\n",
      " ...\n",
      " [ 1897]\n",
      " [ 3254]\n",
      " [21379]]\n",
      "\n",
      "after batching\n",
      "[[[ 261]\n",
      "  [ 221]\n",
      "  [ 225]\n",
      "  ...\n",
      "  [1329]\n",
      "  [1104]\n",
      "  [2256]]\n",
      "\n",
      " [[5456]\n",
      "  [1107]\n",
      "  [1103]\n",
      "  ...\n",
      "  [1283]\n",
      "  [1137]\n",
      "  [1231]]\n",
      "\n",
      " [[ 118]\n",
      "  [1329]\n",
      "  [1122]\n",
      "  ...\n",
      "  [1409]\n",
      "  [1128]\n",
      "  [1132]]\n",
      "\n",
      " ...\n",
      "\n",
      " [[1103]\n",
      "  [1390]\n",
      "  [1120]\n",
      "  ...\n",
      "  [ 248]\n",
      "  [3663]\n",
      "  [6094]]\n",
      "\n",
      " [[1328]\n",
      "  [1106]\n",
      "  [1301]\n",
      "  ...\n",
      "  [1592]\n",
      "  [3276]\n",
      "  [ 146]]\n",
      "\n",
      " [[1138]\n",
      "  [1199]\n",
      "  [1671]\n",
      "  ...\n",
      "  [5602]\n",
      "  [3755]\n",
      "  [1110]]]\n"
     ]
    }
   ],
   "source": [
    "def put_into_batches(data,batch_size):\n",
    "    num_batches = (len(data) // batch_size)\n",
    "    batched_data = []\n",
    "    for batch_idx in range(num_batches):\n",
    "        curr_batch = data[batch_idx*batch_size:(batch_idx+1)*batch_size]\n",
    "        batched_data.append(curr_batch)\n",
    "    batched_data = np.array(batched_data)\n",
    "    return batched_data\n",
    "    \n",
    "    \n",
    "train_features_batched = put_into_batches(predictor_sequences,batch_size)\n",
    "train_targets_batched = put_into_batches(targets_one_hot,batch_size)\n",
    "\n",
    "print(\"before batching\")\n",
    "print(np.array(predictor_sequences))\n",
    "\n",
    "print(\"\\nafter batching\")\n",
    "print(train_features_batched)"
   ]
  },
  {
   "cell_type": "markdown",
   "metadata": {
    "slideshow": {
     "slide_type": "fragment"
    }
   },
   "source": [
    "## Creating and compiling the model\n",
    "\n",
    "Note that in this case, we set `batch_input_shape=(batch_size, sequence_length)`\n",
    "\n",
    "instead of `input_length=sequence_length`"
   ]
  },
  {
   "cell_type": "code",
   "execution_count": 7,
   "metadata": {},
   "outputs": [],
   "source": [
    "# Define the model\n",
    "model = Sequential()\n",
    "model.add(Embedding(input_dim=vocabulary_size, output_dim=50, batch_input_shape=(batch_size, sequence_length)))\n",
    "model.add(SimpleRNN(100,return_sequences=False,stateful=True))\n",
    "model.add(Dense(vocabulary_size, activation='softmax'))\n",
    "\n",
    "# Compile the model\n",
    "model.compile(loss='categorical_crossentropy', optimizer='adam', metrics=['accuracy'])"
   ]
  },
  {
   "cell_type": "markdown",
   "metadata": {
    "slideshow": {
     "slide_type": "fragment"
    }
   },
   "source": [
    "## Writing a training loop\n",
    "\n",
    "instead of just doing `model.fit`, we'll do `model.train_on_batch`"
   ]
  },
  {
   "cell_type": "code",
   "execution_count": 8,
   "metadata": {},
   "outputs": [
    {
     "name": "stdout",
     "output_type": "stream",
     "text": [
      "Epoch 1/10\n",
      "\tBatch 100/624\n",
      "\tBatch 200/624\n",
      "\tBatch 300/624\n",
      "\tBatch 400/624\n",
      "\tBatch 500/624\n",
      "\tBatch 600/624\n",
      "Epoch 2/10\n",
      "\tBatch 100/624\n",
      "\tBatch 200/624\n",
      "\tBatch 300/624\n",
      "\tBatch 400/624\n",
      "\tBatch 500/624\n",
      "\tBatch 600/624\n",
      "Epoch 3/10\n",
      "\tBatch 100/624\n",
      "\tBatch 200/624\n",
      "\tBatch 300/624\n",
      "\tBatch 400/624\n",
      "\tBatch 500/624\n",
      "\tBatch 600/624\n",
      "Epoch 4/10\n",
      "\tBatch 100/624\n",
      "\tBatch 200/624\n",
      "\tBatch 300/624\n",
      "\tBatch 400/624\n",
      "\tBatch 500/624\n",
      "\tBatch 600/624\n",
      "Epoch 5/10\n",
      "\tBatch 100/624\n",
      "\tBatch 200/624\n",
      "\tBatch 300/624\n",
      "\tBatch 400/624\n",
      "\tBatch 500/624\n",
      "\tBatch 600/624\n",
      "Epoch 6/10\n",
      "\tBatch 100/624\n",
      "\tBatch 200/624\n",
      "\tBatch 300/624\n",
      "\tBatch 400/624\n",
      "\tBatch 500/624\n",
      "\tBatch 600/624\n",
      "Epoch 7/10\n",
      "\tBatch 100/624\n",
      "\tBatch 200/624\n",
      "\tBatch 300/624\n",
      "\tBatch 400/624\n",
      "\tBatch 500/624\n",
      "\tBatch 600/624\n",
      "Epoch 8/10\n",
      "\tBatch 100/624\n",
      "\tBatch 200/624\n",
      "\tBatch 300/624\n",
      "\tBatch 400/624\n",
      "\tBatch 500/624\n",
      "\tBatch 600/624\n",
      "Epoch 9/10\n",
      "\tBatch 100/624\n",
      "\tBatch 200/624\n",
      "\tBatch 300/624\n",
      "\tBatch 400/624\n",
      "\tBatch 500/624\n",
      "\tBatch 600/624\n",
      "Epoch 10/10\n",
      "\tBatch 100/624\n",
      "\tBatch 200/624\n",
      "\tBatch 300/624\n",
      "\tBatch 400/624\n",
      "\tBatch 500/624\n",
      "\tBatch 600/624\n"
     ]
    }
   ],
   "source": [
    "num_epochs = 10  # Number of epochs to train for\n",
    "number_of_batches = len(train_features_batched)\n",
    "\n",
    "for epoch in range(num_epochs):\n",
    "    print(f'Epoch {epoch+1}/{num_epochs}')\n",
    "    model.reset_states()  # Reset states at the start of each epoch\n",
    "\n",
    "    \n",
    "    for batch_idx in range(number_of_batches):\n",
    "        #print batch number every 1000 batches\n",
    "        if (batch_idx+1) % 100 == 0:\n",
    "            print(f'\\tBatch {batch_idx+1}/{number_of_batches}')\n",
    "        \n",
    "        # Train on the batch\n",
    "        model.train_on_batch(train_features_batched[batch_idx], train_targets_batched[batch_idx])\n",
    "        \n",
    "\n",
    "\n",
    "    # if you switch to a new document, do this\n",
    "    #model.reset_states()"
   ]
  },
  {
   "cell_type": "markdown",
   "metadata": {
    "slideshow": {
     "slide_type": "fragment"
    }
   },
   "source": [
    "### Now let's use our model to generate some text\n",
    "\n",
    "This code looks much different because we're using the Hugging Face tokenizer\n",
    "* turn text into ids with `tokenizer.encode`\n",
    "* turn ids into text with `tokenizer.decode`"
   ]
  },
  {
   "cell_type": "code",
   "execution_count": 13,
   "metadata": {},
   "outputs": [
    {
     "name": "stdout",
     "output_type": "stream",
     "text": [
      "It is the stalls passions in the door of the door of the door of the door of the door of the door of the door of the door of the door of the door of the door of the door of the door of the door of the door\n"
     ]
    }
   ],
   "source": [
    "starter_string = \"It\"\n",
    "\n",
    "# Encode the starter string to token IDs\n",
    "input_ids = tokenizer.encode(starter_string, add_special_tokens=False)\n",
    "\n",
    "for i in range(50):\n",
    "    # Get the last sequence_length tokens\n",
    "    curr_seq = input_ids[-sequence_length:]\n",
    "    # Predict the next token ID\n",
    "    predicted_probabilities = model.predict(np.array([curr_seq]), verbose=0)\n",
    "    predicted_index = np.argmax(predicted_probabilities, axis=-1)\n",
    "    # Add the predicted token ID to the sequence\n",
    "    input_ids.append(predicted_index[0])\n",
    "\n",
    "# Decode the token IDs to a string\n",
    "generated_sequence = tokenizer.decode(input_ids, clean_up_tokenization_spaces=True)\n",
    "print(generated_sequence)\n"
   ]
  },
  {
   "cell_type": "markdown",
   "metadata": {
    "slideshow": {
     "slide_type": "slide"
    }
   },
   "source": [
    "## Applied Exploration\n",
    "\n",
    "Adjust the code to get this working on more than one longer document\n",
    "* can get multiple Project Gutenberg texts\n",
    "* can use a Hugging Face dataset with longer texts (i.e., multiple sentences per entry, unlike `ag_news`)\n",
    "\n",
    "Let it train for a while and then generate some text\n",
    "* Did training with larger data sets improve the kind of text you were able to generate?\n",
    "* describe what you did and write up an interpretation of your results"
   ]
  }
 ],
 "metadata": {
  "celltoolbar": "Slideshow",
  "colab": {
   "authorship_tag": "ABX9TyOf2oi4GbgdvkO0orSdgZtQ",
   "provenance": []
  },
  "kernelspec": {
   "display_name": "Python 3 (ipykernel)",
   "language": "python",
   "name": "python3"
  },
  "language_info": {
   "codemirror_mode": {
    "name": "ipython",
    "version": 3
   },
   "file_extension": ".py",
   "mimetype": "text/x-python",
   "name": "python",
   "nbconvert_exporter": "python",
   "pygments_lexer": "ipython3",
   "version": "3.10.13"
  }
 },
 "nbformat": 4,
 "nbformat_minor": 1
}
