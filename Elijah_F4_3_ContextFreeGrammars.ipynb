{
 "cells": [
  {
   "cell_type": "markdown",
   "metadata": {
    "id": "C192SOmJS6lw",
    "slideshow": {
     "slide_type": "slide"
    }
   },
   "source": [
    "# CS 195: Natural Language Processing\n",
    "## Context-Free Grammars\n",
    "\n",
    "[![Open In Colab](https://colab.research.google.com/assets/colab-badge.svg)](https://colab.research.google.com/github/ericmanley/f23-CS195NLP/blob/main/F4_3_ContextFreeGrammars.ipynb)\n"
   ]
  },
  {
   "cell_type": "markdown",
   "metadata": {
    "slideshow": {
     "slide_type": "slide"
    }
   },
   "source": [
    "## References\n",
    "\n",
    "SLP: Context-Free Grammars and Constituency Parsing, Chapter 17 of *Speech and Language Processing* by Daniel Jurafsky & James H. Martin: https://web.stanford.edu/~jurafsky/slp3/17.pdf\n",
    "\n",
    "NLTK Book Chapter 8: Analyzing Sentence Structure: https://www.nltk.org/book/ch08.html"
   ]
  },
  {
   "cell_type": "code",
   "execution_count": 1,
   "metadata": {},
   "outputs": [
    {
     "name": "stdout",
     "output_type": "stream",
     "text": [
      "Requirement already satisfied: nltk in /Users/elijahlueders/Library/Caches/pypoetry/virtualenvs/nlp-local-JrpFJHsc-py3.10/lib/python3.10/site-packages (3.8.1)\n",
      "Collecting svgling\n",
      "  Obtaining dependency information for svgling from https://files.pythonhosted.org/packages/01/af/473c8551a3d03d3b0fbe65cd8608c9aab930552adcb8ee90963dfc92ded6/svgling-0.4.0-py3-none-any.whl.metadata\n",
      "  Downloading svgling-0.4.0-py3-none-any.whl.metadata (7.0 kB)\n",
      "Requirement already satisfied: click in /Users/elijahlueders/Library/Caches/pypoetry/virtualenvs/nlp-local-JrpFJHsc-py3.10/lib/python3.10/site-packages (from nltk) (8.1.7)\n",
      "Requirement already satisfied: joblib in /Users/elijahlueders/Library/Caches/pypoetry/virtualenvs/nlp-local-JrpFJHsc-py3.10/lib/python3.10/site-packages (from nltk) (1.3.2)\n",
      "Requirement already satisfied: regex>=2021.8.3 in /Users/elijahlueders/Library/Caches/pypoetry/virtualenvs/nlp-local-JrpFJHsc-py3.10/lib/python3.10/site-packages (from nltk) (2023.8.8)\n",
      "Requirement already satisfied: tqdm in /Users/elijahlueders/Library/Caches/pypoetry/virtualenvs/nlp-local-JrpFJHsc-py3.10/lib/python3.10/site-packages (from nltk) (4.66.1)\n",
      "Collecting svgwrite (from svgling)\n",
      "  Downloading svgwrite-1.4.3-py3-none-any.whl (67 kB)\n",
      "\u001b[2K     \u001b[38;2;114;156;31m━━━━━━━━━━━━━━━━━━━━━━━━━━━━━━━━━━━━━━━━\u001b[0m \u001b[32m67.1/67.1 kB\u001b[0m \u001b[31m1.7 MB/s\u001b[0m eta \u001b[36m0:00:00\u001b[0m\n",
      "\u001b[?25hDownloading svgling-0.4.0-py3-none-any.whl (23 kB)\n",
      "Installing collected packages: svgwrite, svgling\n",
      "Successfully installed svgling-0.4.0 svgwrite-1.4.3\n",
      "\n",
      "\u001b[1m[\u001b[0m\u001b[34;49mnotice\u001b[0m\u001b[1;39;49m]\u001b[0m\u001b[39;49m A new release of pip is available: \u001b[0m\u001b[31;49m23.2.1\u001b[0m\u001b[39;49m -> \u001b[0m\u001b[32;49m23.3\u001b[0m\n",
      "\u001b[1m[\u001b[0m\u001b[34;49mnotice\u001b[0m\u001b[1;39;49m]\u001b[0m\u001b[39;49m To update, run: \u001b[0m\u001b[32;49mpip install --upgrade pip\u001b[0m\n"
     ]
    }
   ],
   "source": [
    "import sys\n",
    "!{sys.executable} -m pip install nltk svgling"
   ]
  },
  {
   "cell_type": "code",
   "execution_count": 2,
   "metadata": {},
   "outputs": [],
   "source": [
    "#you shouldn't need to do this in Colab, but I had to do it on my own machine\n",
    "#in order to connect to the nltk service\n",
    "import nltk\n",
    "import ssl\n",
    "\n",
    "try:\n",
    "    _create_unverified_https_context = ssl._create_unverified_context\n",
    "except AttributeError:\n",
    "    pass\n",
    "else:\n",
    "    ssl._create_default_https_context = _create_unverified_https_context\n"
   ]
  },
  {
   "cell_type": "markdown",
   "metadata": {
    "slideshow": {
     "slide_type": "slide"
    }
   },
   "source": [
    "## Syntax\n",
    "\n",
    "**Syntax** of natural language: the study of language *structure*, or how words combine to form phrases and sentences\n",
    "\n",
    "Like programming language syntax - what are the rules for making a valid program?\n",
    "\n",
    "In linguistics, syntax can be described using a **grammar**\n",
    "\n",
    "A **context-free grammar** is one kind of *formal* grammar that can describe most structural aspects of natural languages\n",
    "\n"
   ]
  },
  {
   "cell_type": "markdown",
   "metadata": {
    "slideshow": {
     "slide_type": "slide"
    }
   },
   "source": [
    "## Programming Language Context-Free Grammar\n",
    "\n",
    "Here's an example of some **grammar rules** or **productions** that you might find in a C-like programming language (a real programming language will have *a lot more* productions than this)\n",
    "\n",
    "<table>\n",
    "    <tr>\n",
    "        <td style=\"text-align: right;\">\n",
    "            <i>IfStatement</i>\n",
    "        </td>\n",
    "        <td style=\"text-align: center;\">\n",
    "            &rarr;\n",
    "        </td>\n",
    "        <td style=\"text-align: left;\">\n",
    "            <code>if</code> <code>(</code> <i>Expression</i> <code>)</code> <i>Statement</i> <code>;</code>\n",
    "        </td>\n",
    "    </tr>\n",
    "    <tr>\n",
    "        <td style=\"text-align: right;\">\n",
    "            <i>Statement</i> \n",
    "        </td>\n",
    "        <td style=\"text-align: center;\">\n",
    "            &rarr;\n",
    "        </td>\n",
    "        <td style=\"text-align: left;\">\n",
    "            <i>IfStatement</i>\n",
    "        </td>\n",
    "    </tr>\n",
    "  <tr>\n",
    "    <td style=\"text-align: right;\"><em>Statement</em></td>\n",
    "    <td style=\"text-align: center;\">&rarr;</td>\n",
    "    <td style=\"text-align: left;\"><em>IfElseStatement</em></td>\n",
    "  </tr>\n",
    "  <tr>\n",
    "    <td style=\"text-align: right;\"><em>Statement</em></td>\n",
    "    <td style=\"text-align: center;\">&rarr;</td>\n",
    "    <td style=\"text-align: left;\"><em>WhileStatement</em></td>\n",
    "  </tr>\n",
    "  <tr>\n",
    "    <td style=\"text-align: right;\"><em>Statement</em></td>\n",
    "    <td style=\"text-align: center;\">&rarr;</td>\n",
    "    <td style=\"text-align: left;\"><em>AssignmentStatement</em></td>\n",
    "  </tr>\n",
    "  <tr>\n",
    "    <td style=\"text-align: right;\"><em>Expression</em></td>\n",
    "    <td style=\"text-align: center;\">&rarr;</td>\n",
    "    <td style=\"text-align: left;\"><em>Expression</em> <code>+</code> <em>Expression</em></td>\n",
    "  </tr>\n",
    "  <tr>\n",
    "    <td style=\"text-align: right;\"><em>Expression</em></td>\n",
    "    <td style=\"text-align: center;\">&rarr;</td>\n",
    "    <td style=\"text-align: left;\"><em>Expression</em> <code>-</code> <em>Expression</em></td>\n",
    "  </tr>\n",
    "  <tr>\n",
    "    <td style=\"text-align: right;\"><em>Expression</em></td>\n",
    "    <td style=\"text-align: center;\">&rarr;</td>\n",
    "    <td style=\"text-align: left;\"><em>Expression</em> <code>&lt;</code> <em>Expression</em></td>\n",
    "  </tr>\n",
    "  <tr>\n",
    "    <td style=\"text-align: right;\"><em>Expression</em></td>\n",
    "    <td style=\"text-align: center;\">&rarr;</td>\n",
    "    <td style=\"text-align: left;\"><em>Expression</em> <code>==</code> <em>Expression</em></td>\n",
    "  </tr>\n",
    "  <tr>\n",
    "    <td style=\"text-align: right;\"><em>Expression</em></td>\n",
    "    <td style=\"text-align: center;\">&rarr;</td>\n",
    "    <td style=\"text-align: left;\"><em>Number</em></td>\n",
    "  </tr>\n",
    "    \n",
    "</table>\n",
    "\n"
   ]
  },
  {
   "cell_type": "markdown",
   "metadata": {
    "slideshow": {
     "slide_type": "fragment"
    }
   },
   "source": [
    "### Notes\n",
    "\n",
    "The $\\rightarrow$ symbol means *can have the form*\n",
    "\n",
    "tokens like `if`, `(`, `;`, and `+` are **terminal symbols** - they represent actual text\n",
    "\n",
    "symbols like *IfStatement*, *Expression*, and *Statement* are **non-terminal** symbols - they need to be described with other productions"
   ]
  },
  {
   "cell_type": "markdown",
   "metadata": {
    "slideshow": {
     "slide_type": "slide"
    }
   },
   "source": [
    "## Abbreviated notation\n",
    "\n",
    "You can use the `|` symbol to mean \"or\" when giving a list of possible forms.\n",
    "\n",
    "<table>\n",
    "    <tr>\n",
    "        <td style=\"text-align: right;\">\n",
    "            <i>IfStatement</i>\n",
    "        </td>\n",
    "        <td style=\"text-align: center;\">\n",
    "            &rarr;\n",
    "        </td>\n",
    "        <td style=\"text-align: left;\">\n",
    "            <code>if</code> <code>(</code> <i>Expression</i> <code>)</code> <i>Statement</i> <code>;</code>\n",
    "        </td>\n",
    "    </tr>\n",
    "  <tr>\n",
    "    <td style=\"text-align: right;\"><em>Statement</em></td>\n",
    "    <td style=\"text-align: center;\">&rarr;</td>\n",
    "    <td style=\"text-align: left;\"><em>IfStatement</em> | <em>IfElseStatement</em> | <em>WhileStatement</em> | <em>AssignmentStatement</em></td>\n",
    "  </tr>\n",
    "    <td style=\"text-align: right;\"><em>Expression</em></td>\n",
    "    <td style=\"text-align: center;\">&rarr;</td>\n",
    "    <td style=\"text-align: left;\"><em>Expression</em> <code>+</code> <em>Expression</em> | <em>Expression</em> <code>-</code> <em>Expression</em> </td>\n",
    "  </tr>\n",
    "  <tr>\n",
    "    <td style=\"text-align: right;\"></td>\n",
    "    <td style=\"text-align: center;\"></td>\n",
    "    <td style=\"text-align: left;\">| <em>Expression</em> <code>&lt;</code> <em>Expression</em> | <em>Expression</em> <code>==</code> <em>Expression</em> </td>\n",
    "  </tr>\n",
    "  <tr>\n",
    "    <td style=\"text-align: right;\"><em></em></td>\n",
    "    <td style=\"text-align: center;\"></td>\n",
    "    <td style=\"text-align: left;\">| <em>Number</em></td>\n",
    "  </tr>\n",
    "    \n",
    "</table>"
   ]
  },
  {
   "cell_type": "markdown",
   "metadata": {
    "slideshow": {
     "slide_type": "slide"
    }
   },
   "source": [
    "## A small English context-free grammar\n",
    "\n",
    "Here's a variation of a small subset of English from SLP 17.2\n",
    "\n",
    "\n",
    "<table>\n",
    "  <tr>\n",
    "    <td style=\"text-align: right;\"><em>Sentence</em></td>\n",
    "    <td style=\"text-align: center;\">&rarr;</td>\n",
    "    <td style=\"text-align: left;\"><em>NounPhrase</em> <em>VerbPhrase</em></td>\n",
    "  </tr>\n",
    "  <tr>\n",
    "    <td style=\"text-align: right;\"><em>NounPhrase</em></td>\n",
    "    <td style=\"text-align: center;\">&rarr;</td>\n",
    "    <td style=\"text-align: left;\"><em>Pronoun</em> | <em>Determiner</em> <em>Noun</em></td>\n",
    "  </tr>\n",
    "  <tr>\n",
    "    <td style=\"text-align: right;\"><em>VerbPhrase</em></td>\n",
    "    <td style=\"text-align: center;\">&rarr;</td>\n",
    "    <td style=\"text-align: left;\"><em>Verb</em> <em>NounPhrase</em> | <em>Verb</em> <em>NounPhrase</em> <em>PropositionalPhrase</em> | <em>Verb</em> <em>PrepositionalPhrase</em></td>\n",
    "  </tr>\n",
    "  <tr>\n",
    "    <td style=\"text-align: right;\"><em>PrepositionalPhrase</em></td>\n",
    "    <td style=\"text-align: center;\">&rarr;</td>\n",
    "    <td style=\"text-align: left;\"><em>Preposition</em> <em>NounPhrase</em></td>\n",
    "  </tr>\n",
    "  <tr>\n",
    "    <td style=\"text-align: right;\"><em>Determiner</em></td>\n",
    "    <td style=\"text-align: center;\">&rarr;</td>\n",
    "    <td style=\"text-align: left;\"><code>a</code> | <code>an</code> | <code>the</code> | <code>this</code> | <code>that</code> | <code>my</code> | ...</td>\n",
    "  </tr>\n",
    "  <tr>\n",
    "    <td style=\"text-align: right;\"><em>Pronoun</em></td>\n",
    "    <td style=\"text-align: center;\">&rarr;</td>\n",
    "    <td style=\"text-align: left;\"><code>me</code> | <code>I</code> | <code>you</code> | <code>it</code> | ...</td>\n",
    "  </tr>\n",
    "  <tr>\n",
    "    <td style=\"text-align: right;\"><em>Noun</em></td>\n",
    "    <td style=\"text-align: center;\">&rarr;</td>\n",
    "    <td style=\"text-align: left;\"><code>flights</code> | <code>flight</code> | <code>breeze</code> | <code>trip</code> | <code>morning</code> | <code>elephant</code> | <code>pajamas</code> | ...</td>\n",
    "  </tr>\n",
    "  <tr>\n",
    "    <td style=\"text-align: right;\"><em>Verb</em></td>\n",
    "    <td style=\"text-align: center;\">&rarr;</td>\n",
    "    <td style=\"text-align: left;\"><code>is</code> | <code>prefer</code> | <code>like</code> | <code>need</code> | <code>want</code> | <code>fly</code> | <code>do</code> | <code>shot</code> | ...</td>\n",
    "  </tr>\n",
    "  <tr>\n",
    "    <td style=\"text-align: right;\"><em>Preposition</em></td>\n",
    "    <td style=\"text-align: center;\">&rarr;</td>\n",
    "    <td style=\"text-align: left;\"><code>from</code> | <code>to</code> | <code>on</code> | <code>near</code> | <code>in</code> | ...</td>\n",
    "  </tr>\n",
    "</table>\n"
   ]
  },
  {
   "cell_type": "markdown",
   "metadata": {
    "slideshow": {
     "slide_type": "fragment"
    }
   },
   "source": [
    "## Derivations\n",
    "\n",
    "A **Derivation** is a sequence of steps in which you replace non-terminals with one of the options on the right side of a production until you end up with only terminals.\n",
    "\n",
    "For example \n",
    "\n",
    "*Sentence* $\\Rightarrow$ *NounPhrase* *VerbPhrase* $\\Rightarrow$ *Pronoun* *VerbPhrase* $\\Rightarrow$ *Pronoun* *Verb* *NounPhrase* $\\Rightarrow$ `I` *Verb* *NounPhrase* $\\Rightarrow$ `I` *Verb* *Determiner* *Noun* $\\Rightarrow$ `I` *Verb* *Determiner* `flight`\n",
    "$\\Rightarrow$ `I` *Verb* *Determiner* `flight` $\\Rightarrow$ `I` *Verb* `a` `flight` $\\Rightarrow$ `I` `need` `a` `flight` \n",
    "\n",
    "This shows that `I need a flight` can be derived from *Sentence*, so it is a valid sentence in the language."
   ]
  },
  {
   "cell_type": "markdown",
   "metadata": {
    "slideshow": {
     "slide_type": "fragment"
    }
   },
   "source": [
    "## Parse Trees\n",
    "\n",
    "A **parse tree** is a graphical representation of a derivation sequence.\n",
    "\n",
    "Here's a parse tree for `I need a flight`\n",
    "\n",
    "\n",
    "<div>\n",
    "<img src=\"images/parse_tree.png\" width = 500/>\n",
    "</div>"
   ]
  },
  {
   "cell_type": "markdown",
   "metadata": {
    "slideshow": {
     "slide_type": "fragment"
    }
   },
   "source": [
    "## Group Exercise\n",
    "\n",
    "Find another sentence that can generated from *Sentence* but whose parse tree looks different.\n",
    "\n",
    "Draw the parse tree."
   ]
  },
  {
   "cell_type": "markdown",
   "metadata": {},
   "source": [
    "## CFGs in NLTK\n",
    "\n",
    "The following examples show how you can define context-free grammars using the nltk library."
   ]
  },
  {
   "cell_type": "code",
   "execution_count": 9,
   "metadata": {},
   "outputs": [
    {
     "name": "stdout",
     "output_type": "stream",
     "text": [
      "Here's what the internal structure looks like:\n",
      "[Tree('NounPhrase', [Tree('Pronoun', ['I'])]), Tree('VerbPhrase', [Tree('Verb', ['need']), Tree('NounPhrase', [Tree('Determiner', ['a']), Tree('Noun', ['flight'])])])]\n",
      "\n",
      "Here's what the parse tree looks like graphically:\n"
     ]
    },
    {
     "data": {
      "image/svg+xml": [
       "<svg baseProfile=\"full\" height=\"216px\" preserveAspectRatio=\"xMidYMid meet\" style=\"font-family: times, serif; font-weight: normal; font-style: normal; font-size: 16px;\" version=\"1.1\" viewBox=\"0,0,304.0,216.0\" width=\"304px\" xmlns=\"http://www.w3.org/2000/svg\" xmlns:ev=\"http://www.w3.org/2001/xml-events\" xmlns:xlink=\"http://www.w3.org/1999/xlink\"><defs /><svg width=\"100%\" x=\"0\" y=\"0px\"><defs /><text text-anchor=\"middle\" x=\"50%\" y=\"16px\">Sentence</text></svg><svg width=\"31.5789%\" x=\"0%\" y=\"48px\"><defs /><svg width=\"100%\" x=\"0\" y=\"0px\"><defs /><text text-anchor=\"middle\" x=\"50%\" y=\"16px\">NounPhrase</text></svg><svg width=\"100%\" x=\"0%\" y=\"48px\"><defs /><svg width=\"100%\" x=\"0\" y=\"0px\"><defs /><text text-anchor=\"middle\" x=\"50%\" y=\"16px\">Pronoun</text></svg><svg width=\"100%\" x=\"0%\" y=\"48px\"><defs /><svg width=\"100%\" x=\"0\" y=\"0px\"><defs /><text text-anchor=\"middle\" x=\"50%\" y=\"16px\">I</text></svg></svg><line stroke=\"black\" x1=\"50%\" x2=\"50%\" y1=\"19.2px\" y2=\"48px\" /></svg><line stroke=\"black\" x1=\"50%\" x2=\"50%\" y1=\"19.2px\" y2=\"48px\" /></svg><line stroke=\"black\" x1=\"50%\" x2=\"15.7895%\" y1=\"19.2px\" y2=\"48px\" /><svg width=\"68.4211%\" x=\"31.5789%\" y=\"48px\"><defs /><svg width=\"100%\" x=\"0\" y=\"0px\"><defs /><text text-anchor=\"middle\" x=\"50%\" y=\"16px\">VerbPhrase</text></svg><svg width=\"23.0769%\" x=\"0%\" y=\"48px\"><defs /><svg width=\"100%\" x=\"0\" y=\"0px\"><defs /><text text-anchor=\"middle\" x=\"50%\" y=\"16px\">Verb</text></svg><svg width=\"100%\" x=\"0%\" y=\"48px\"><defs /><svg width=\"100%\" x=\"0\" y=\"0px\"><defs /><text text-anchor=\"middle\" x=\"50%\" y=\"16px\">need</text></svg></svg><line stroke=\"black\" x1=\"50%\" x2=\"50%\" y1=\"19.2px\" y2=\"48px\" /></svg><line stroke=\"black\" x1=\"50%\" x2=\"11.5385%\" y1=\"19.2px\" y2=\"48px\" /><svg width=\"76.9231%\" x=\"23.0769%\" y=\"48px\"><defs /><svg width=\"100%\" x=\"0\" y=\"0px\"><defs /><text text-anchor=\"middle\" x=\"50%\" y=\"16px\">NounPhrase</text></svg><svg width=\"60%\" x=\"0%\" y=\"48px\"><defs /><svg width=\"100%\" x=\"0\" y=\"0px\"><defs /><text text-anchor=\"middle\" x=\"50%\" y=\"16px\">Determiner</text></svg><svg width=\"100%\" x=\"0%\" y=\"48px\"><defs /><svg width=\"100%\" x=\"0\" y=\"0px\"><defs /><text text-anchor=\"middle\" x=\"50%\" y=\"16px\">a</text></svg></svg><line stroke=\"black\" x1=\"50%\" x2=\"50%\" y1=\"19.2px\" y2=\"48px\" /></svg><line stroke=\"black\" x1=\"50%\" x2=\"30%\" y1=\"19.2px\" y2=\"48px\" /><svg width=\"40%\" x=\"60%\" y=\"48px\"><defs /><svg width=\"100%\" x=\"0\" y=\"0px\"><defs /><text text-anchor=\"middle\" x=\"50%\" y=\"16px\">Noun</text></svg><svg width=\"100%\" x=\"0%\" y=\"48px\"><defs /><svg width=\"100%\" x=\"0\" y=\"0px\"><defs /><text text-anchor=\"middle\" x=\"50%\" y=\"16px\">flight</text></svg></svg><line stroke=\"black\" x1=\"50%\" x2=\"50%\" y1=\"19.2px\" y2=\"48px\" /></svg><line stroke=\"black\" x1=\"50%\" x2=\"80%\" y1=\"19.2px\" y2=\"48px\" /></svg><line stroke=\"black\" x1=\"50%\" x2=\"61.5385%\" y1=\"19.2px\" y2=\"48px\" /></svg><line stroke=\"black\" x1=\"50%\" x2=\"65.7895%\" y1=\"19.2px\" y2=\"48px\" /></svg>"
      ],
      "text/plain": [
       "Tree('Sentence', [Tree('NounPhrase', [Tree('Pronoun', ['I'])]), Tree('VerbPhrase', [Tree('Verb', ['need']), Tree('NounPhrase', [Tree('Determiner', ['a']), Tree('Noun', ['flight'])])])])"
      ]
     },
     "metadata": {},
     "output_type": "display_data"
    }
   ],
   "source": [
    "import nltk\n",
    "\n",
    "\n",
    "productions = [\n",
    "    nltk.Production(nltk.Nonterminal('Sentence'), [nltk.Nonterminal('NounPhrase'), nltk.Nonterminal('VerbPhrase')]),\n",
    "    nltk.Production(nltk.Nonterminal('NounPhrase'), [nltk.Nonterminal('Pronoun')]),\n",
    "    nltk.Production(nltk.Nonterminal('NounPhrase'), [nltk.Nonterminal('Determiner'), nltk.Nonterminal('Noun')]),\n",
    "    nltk.Production(nltk.Nonterminal('NounPhrase'), [nltk.Nonterminal('Noun')]),\n",
    "    nltk.Production(nltk.Nonterminal('VerbPhrase'), [nltk.Nonterminal('Verb'), nltk.Nonterminal('NounPhrase')]),\n",
    "    nltk.Production(nltk.Nonterminal('VerbPhrase'), [nltk.Nonterminal('Verb'), nltk.Nonterminal('NounPhrase'), nltk.Nonterminal('PrepositionalPhrase')]),\n",
    "    nltk.Production(nltk.Nonterminal('VerbPhrase'), [nltk.Nonterminal('Verb'), nltk.Nonterminal('PrepositionalPhrase')]),\n",
    "    nltk.Production(nltk.Nonterminal('PrepositionalPhrase'), [nltk.Nonterminal('Preposition'), nltk.Nonterminal('NounPhrase')]),\n",
    "    \n",
    "    # Productions for Determiner\n",
    "    nltk.Production(nltk.Nonterminal('Determiner'), ['a']),\n",
    "    nltk.Production(nltk.Nonterminal('Determiner'), ['an']),\n",
    "    nltk.Production(nltk.Nonterminal('Determiner'), ['the']),\n",
    "    nltk.Production(nltk.Nonterminal('Determiner'), ['this']),\n",
    "    nltk.Production(nltk.Nonterminal('Determiner'), ['that']),\n",
    "    nltk.Production(nltk.Nonterminal('Determiner'), ['my']),\n",
    "    # Add more Determiner productions as needed\n",
    "    \n",
    "    # Productions for Pronoun\n",
    "    nltk.Production(nltk.Nonterminal('Pronoun'), ['me']),\n",
    "    nltk.Production(nltk.Nonterminal('Pronoun'), ['I']),\n",
    "    nltk.Production(nltk.Nonterminal('Pronoun'), ['you']),\n",
    "    nltk.Production(nltk.Nonterminal('Pronoun'), ['it']),\n",
    "    # Add more Pronoun productions as needed\n",
    "\n",
    "    # Productions for Noun\n",
    "    nltk.Production(nltk.Nonterminal('Noun'), ['flights']),\n",
    "    nltk.Production(nltk.Nonterminal('Noun'), ['flight']),\n",
    "    nltk.Production(nltk.Nonterminal('Noun'), ['breeze']),\n",
    "    nltk.Production(nltk.Nonterminal('Noun'), ['trip']),\n",
    "    nltk.Production(nltk.Nonterminal('Noun'), ['morning']),\n",
    "    nltk.Production(nltk.Nonterminal('Noun'), ['elephant']),\n",
    "    nltk.Production(nltk.Nonterminal('Noun'), ['pajamas']),\n",
    "    # Add more Noun productions as needed\n",
    "\n",
    "    # Productions for Verb\n",
    "    nltk.Production(nltk.Nonterminal('Verb'), ['is']),\n",
    "    nltk.Production(nltk.Nonterminal('Verb'), ['prefer']),\n",
    "    nltk.Production(nltk.Nonterminal('Verb'), ['like']),\n",
    "    nltk.Production(nltk.Nonterminal('Verb'), ['need']),\n",
    "    nltk.Production(nltk.Nonterminal('Verb'), ['want']),\n",
    "    nltk.Production(nltk.Nonterminal('Verb'), ['fly']),\n",
    "    nltk.Production(nltk.Nonterminal('Verb'), ['do']),\n",
    "    nltk.Production(nltk.Nonterminal('Verb'), ['shot']),\n",
    "    # Add more Verb productions as needed\n",
    "\n",
    "    # Productions for Preposition\n",
    "    nltk.Production(nltk.Nonterminal('Preposition'), ['from']),\n",
    "    nltk.Production(nltk.Nonterminal('Preposition'), ['to']),\n",
    "    nltk.Production(nltk.Nonterminal('Preposition'), ['on']),\n",
    "    nltk.Production(nltk.Nonterminal('Preposition'), ['near']),\n",
    "    nltk.Production(nltk.Nonterminal('Preposition'), ['in']),\n",
    "    # Add more Preposition productions as needed\n",
    "]\n",
    "\n",
    "#Sentence is top-level symbol\n",
    "custom_grammar = nltk.CFG(nltk.Nonterminal('Sentence'), productions)\n",
    "\n",
    "#we'll talk about parsers later\n",
    "parser = nltk.ChartParser(custom_grammar)\n",
    "\n",
    "#an example tokenized sentence\n",
    "sentence = \"I need a flight\".split()\n",
    "\n",
    "#there could be many trees\n",
    "for tree in parser.parse(sentence):\n",
    "    # Visualize the parse tree\n",
    "    print(\"Here's what the internal structure looks like:\")\n",
    "    print(list(tree))\n",
    "    #nltk.draw.tree.draw_trees(tree) #uncomment to get an image\n",
    "    print(\"\\nHere's what the parse tree looks like graphically:\")\n",
    "    display(tree)"
   ]
  },
  {
   "cell_type": "code",
   "execution_count": 11,
   "metadata": {},
   "outputs": [
    {
     "name": "stdout",
     "output_type": "stream",
     "text": [
      "Here's what the internal structure looks like:\n",
      "[Tree('NounPhrase', [Tree('Determiner', ['a']), Tree('Noun', ['breeze'])]), Tree('VerbPhrase', [Tree('Verb', ['like']), Tree('PrepositionalPhrase', [Tree('Preposition', ['from']), Tree('NounPhrase', [Tree('Determiner', ['my']), Tree('Noun', ['trip'])])])])]\n",
      "\n",
      "Here's what the parse tree looks like graphically:\n"
     ]
    },
    {
     "data": {
      "image/svg+xml": [
       "<svg baseProfile=\"full\" height=\"264px\" preserveAspectRatio=\"xMidYMid meet\" style=\"font-family: times, serif; font-weight: normal; font-style: normal; font-size: 16px;\" version=\"1.1\" viewBox=\"0,0,456.0,264.0\" width=\"456px\" xmlns=\"http://www.w3.org/2000/svg\" xmlns:ev=\"http://www.w3.org/2001/xml-events\" xmlns:xlink=\"http://www.w3.org/1999/xlink\"><defs /><svg width=\"100%\" x=\"0\" y=\"0px\"><defs /><text text-anchor=\"middle\" x=\"50%\" y=\"16px\">Sentence</text></svg><svg width=\"35.0877%\" x=\"0%\" y=\"48px\"><defs /><svg width=\"100%\" x=\"0\" y=\"0px\"><defs /><text text-anchor=\"middle\" x=\"50%\" y=\"16px\">NounPhrase</text></svg><svg width=\"60%\" x=\"0%\" y=\"48px\"><defs /><svg width=\"100%\" x=\"0\" y=\"0px\"><defs /><text text-anchor=\"middle\" x=\"50%\" y=\"16px\">Determiner</text></svg><svg width=\"100%\" x=\"0%\" y=\"48px\"><defs /><svg width=\"100%\" x=\"0\" y=\"0px\"><defs /><text text-anchor=\"middle\" x=\"50%\" y=\"16px\">a</text></svg></svg><line stroke=\"black\" x1=\"50%\" x2=\"50%\" y1=\"19.2px\" y2=\"48px\" /></svg><line stroke=\"black\" x1=\"50%\" x2=\"30%\" y1=\"19.2px\" y2=\"48px\" /><svg width=\"40%\" x=\"60%\" y=\"48px\"><defs /><svg width=\"100%\" x=\"0\" y=\"0px\"><defs /><text text-anchor=\"middle\" x=\"50%\" y=\"16px\">Noun</text></svg><svg width=\"100%\" x=\"0%\" y=\"48px\"><defs /><svg width=\"100%\" x=\"0\" y=\"0px\"><defs /><text text-anchor=\"middle\" x=\"50%\" y=\"16px\">breeze</text></svg></svg><line stroke=\"black\" x1=\"50%\" x2=\"50%\" y1=\"19.2px\" y2=\"48px\" /></svg><line stroke=\"black\" x1=\"50%\" x2=\"80%\" y1=\"19.2px\" y2=\"48px\" /></svg><line stroke=\"black\" x1=\"50%\" x2=\"17.5439%\" y1=\"19.2px\" y2=\"48px\" /><svg width=\"64.9123%\" x=\"35.0877%\" y=\"48px\"><defs /><svg width=\"100%\" x=\"0\" y=\"0px\"><defs /><text text-anchor=\"middle\" x=\"50%\" y=\"16px\">VerbPhrase</text></svg><svg width=\"16.2162%\" x=\"0%\" y=\"48px\"><defs /><svg width=\"100%\" x=\"0\" y=\"0px\"><defs /><text text-anchor=\"middle\" x=\"50%\" y=\"16px\">Verb</text></svg><svg width=\"100%\" x=\"0%\" y=\"48px\"><defs /><svg width=\"100%\" x=\"0\" y=\"0px\"><defs /><text text-anchor=\"middle\" x=\"50%\" y=\"16px\">like</text></svg></svg><line stroke=\"black\" x1=\"50%\" x2=\"50%\" y1=\"19.2px\" y2=\"48px\" /></svg><line stroke=\"black\" x1=\"50%\" x2=\"8.10811%\" y1=\"19.2px\" y2=\"48px\" /><svg width=\"83.7838%\" x=\"16.2162%\" y=\"48px\"><defs /><svg width=\"100%\" x=\"0\" y=\"0px\"><defs /><text text-anchor=\"middle\" x=\"50%\" y=\"16px\">PrepositionalPhrase</text></svg><svg width=\"41.9355%\" x=\"0%\" y=\"48px\"><defs /><svg width=\"100%\" x=\"0\" y=\"0px\"><defs /><text text-anchor=\"middle\" x=\"50%\" y=\"16px\">Preposition</text></svg><svg width=\"100%\" x=\"0%\" y=\"48px\"><defs /><svg width=\"100%\" x=\"0\" y=\"0px\"><defs /><text text-anchor=\"middle\" x=\"50%\" y=\"16px\">from</text></svg></svg><line stroke=\"black\" x1=\"50%\" x2=\"50%\" y1=\"19.2px\" y2=\"48px\" /></svg><line stroke=\"black\" x1=\"50%\" x2=\"20.9677%\" y1=\"19.2px\" y2=\"48px\" /><svg width=\"58.0645%\" x=\"41.9355%\" y=\"48px\"><defs /><svg width=\"100%\" x=\"0\" y=\"0px\"><defs /><text text-anchor=\"middle\" x=\"50%\" y=\"16px\">NounPhrase</text></svg><svg width=\"66.6667%\" x=\"0%\" y=\"48px\"><defs /><svg width=\"100%\" x=\"0\" y=\"0px\"><defs /><text text-anchor=\"middle\" x=\"50%\" y=\"16px\">Determiner</text></svg><svg width=\"100%\" x=\"0%\" y=\"48px\"><defs /><svg width=\"100%\" x=\"0\" y=\"0px\"><defs /><text text-anchor=\"middle\" x=\"50%\" y=\"16px\">my</text></svg></svg><line stroke=\"black\" x1=\"50%\" x2=\"50%\" y1=\"19.2px\" y2=\"48px\" /></svg><line stroke=\"black\" x1=\"50%\" x2=\"33.3333%\" y1=\"19.2px\" y2=\"48px\" /><svg width=\"33.3333%\" x=\"66.6667%\" y=\"48px\"><defs /><svg width=\"100%\" x=\"0\" y=\"0px\"><defs /><text text-anchor=\"middle\" x=\"50%\" y=\"16px\">Noun</text></svg><svg width=\"100%\" x=\"0%\" y=\"48px\"><defs /><svg width=\"100%\" x=\"0\" y=\"0px\"><defs /><text text-anchor=\"middle\" x=\"50%\" y=\"16px\">trip</text></svg></svg><line stroke=\"black\" x1=\"50%\" x2=\"50%\" y1=\"19.2px\" y2=\"48px\" /></svg><line stroke=\"black\" x1=\"50%\" x2=\"83.3333%\" y1=\"19.2px\" y2=\"48px\" /></svg><line stroke=\"black\" x1=\"50%\" x2=\"70.9677%\" y1=\"19.2px\" y2=\"48px\" /></svg><line stroke=\"black\" x1=\"50%\" x2=\"58.1081%\" y1=\"19.2px\" y2=\"48px\" /></svg><line stroke=\"black\" x1=\"50%\" x2=\"67.5439%\" y1=\"19.2px\" y2=\"48px\" /></svg>"
      ],
      "text/plain": [
       "Tree('Sentence', [Tree('NounPhrase', [Tree('Determiner', ['a']), Tree('Noun', ['breeze'])]), Tree('VerbPhrase', [Tree('Verb', ['like']), Tree('PrepositionalPhrase', [Tree('Preposition', ['from']), Tree('NounPhrase', [Tree('Determiner', ['my']), Tree('Noun', ['trip'])])])])])"
      ]
     },
     "metadata": {},
     "output_type": "display_data"
    }
   ],
   "source": [
    "#an example tokenized sentence\n",
    "sentence = \"a breeze like from my trip\".split()\n",
    "\n",
    "#there could be many trees\n",
    "for tree in parser.parse(sentence):\n",
    "    # Visualize the parse tree\n",
    "    print(\"Here's what the internal structure looks like:\")\n",
    "    print(list(tree))\n",
    "    #nltk.draw.tree.draw_trees(tree) #uncomment to get an image\n",
    "    print(\"\\nHere's what the parse tree looks like graphically:\")\n",
    "    display(tree)"
   ]
  },
  {
   "cell_type": "markdown",
   "metadata": {},
   "source": [
    "## Group Exercise\n",
    "\n",
    "Run this code and try parsing the sentences you came up with on the previous exercise. Compare your parse trees with those produced with the parser."
   ]
  },
  {
   "cell_type": "markdown",
   "metadata": {
    "slideshow": {
     "slide_type": "slide"
    }
   },
   "source": [
    "## Recursive Productions\n",
    "\n",
    "Grammars can contain recursion. For example, let's change our definition of a *NounPhrase*\n",
    "\n",
    "<table>\n",
    "  <tr>\n",
    "    <td style=\"text-align: right;\"><em>NounPhrase</em></td>\n",
    "    <td style=\"text-align: center;\">&rarr;</td>\n",
    "    <td style=\"text-align: left;\"><em>Pronoun</em> | <em>Determiner</em> <em>Nominal</em> | <em>Nominal</em></td>\n",
    "  </tr>\n",
    "  <tr>\n",
    "    <td style=\"text-align: right;\"><em>Nominal</em></td>\n",
    "    <td style=\"text-align: center;\">&rarr;</td>\n",
    "      <td style=\"text-align: left;\"><em>Nominal</em> <em>Noun</em> | <em>Nominal</em> | <em>Noun</em> </td>\n",
    "  </tr>\n",
    "</table>\n",
    "\n",
    "This allows for trees like\n",
    "\n",
    "\n",
    "<div>\n",
    "<img src=\"images/recursive_parse_tree1.png\" width=400 /><img src=\"images/recursive_parse_tree2.png\" width=400/>\n",
    "</div>"
   ]
  },
  {
   "cell_type": "markdown",
   "metadata": {},
   "source": [
    "## Group Exercise\n",
    "\n",
    "Include the new definition of *NounPhrase* and *Nominal* as well as your recursive prepositional phrases in the nltk grammar. Test it out."
   ]
  },
  {
   "cell_type": "code",
   "execution_count": 16,
   "metadata": {},
   "outputs": [
    {
     "name": "stdout",
     "output_type": "stream",
     "text": [
      "Here's what the internal structure looks like:\n",
      "[Tree('NounPhrase', [Tree('Determiner', ['the']), Tree('Nominal', [Tree('Noun', ['breeze'])])]), Tree('VerbPhrase', [Tree('Verb', ['is']), Tree('PrepositionalPhrase', [Tree('Preposition', ['on']), Tree('NounPhrase', [Tree('Determiner', ['the']), Tree('Nominal', [Tree('Noun', ['flight'])])]), Tree('PrepositionalPhrase', [Tree('Preposition', ['from']), Tree('NounPhrase', [Tree('Determiner', ['my']), Tree('Nominal', [Tree('Noun', ['pajamas'])])])])])])]\n",
      "\n",
      "Here's what the parse tree looks like graphically:\n"
     ]
    },
    {
     "data": {
      "image/svg+xml": [
       "<svg baseProfile=\"full\" height=\"360px\" preserveAspectRatio=\"xMidYMid meet\" style=\"font-family: times, serif; font-weight: normal; font-style: normal; font-size: 16px;\" version=\"1.1\" viewBox=\"0,0,760.0,360.0\" width=\"760px\" xmlns=\"http://www.w3.org/2000/svg\" xmlns:ev=\"http://www.w3.org/2001/xml-events\" xmlns:xlink=\"http://www.w3.org/1999/xlink\"><defs /><svg width=\"100%\" x=\"0\" y=\"0px\"><defs /><text text-anchor=\"middle\" x=\"50%\" y=\"16px\">Sentence</text></svg><svg width=\"22.1053%\" x=\"0%\" y=\"48px\"><defs /><svg width=\"100%\" x=\"0\" y=\"0px\"><defs /><text text-anchor=\"middle\" x=\"50%\" y=\"16px\">NounPhrase</text></svg><svg width=\"57.1429%\" x=\"0%\" y=\"48px\"><defs /><svg width=\"100%\" x=\"0\" y=\"0px\"><defs /><text text-anchor=\"middle\" x=\"50%\" y=\"16px\">Determiner</text></svg><svg width=\"100%\" x=\"0%\" y=\"48px\"><defs /><svg width=\"100%\" x=\"0\" y=\"0px\"><defs /><text text-anchor=\"middle\" x=\"50%\" y=\"16px\">the</text></svg></svg><line stroke=\"black\" x1=\"50%\" x2=\"50%\" y1=\"19.2px\" y2=\"48px\" /></svg><line stroke=\"black\" x1=\"50%\" x2=\"28.5714%\" y1=\"19.2px\" y2=\"48px\" /><svg width=\"42.8571%\" x=\"57.1429%\" y=\"48px\"><defs /><svg width=\"100%\" x=\"0\" y=\"0px\"><defs /><text text-anchor=\"middle\" x=\"50%\" y=\"16px\">Nominal</text></svg><svg width=\"100%\" x=\"0%\" y=\"48px\"><defs /><svg width=\"100%\" x=\"0\" y=\"0px\"><defs /><text text-anchor=\"middle\" x=\"50%\" y=\"16px\">Noun</text></svg><svg width=\"100%\" x=\"0%\" y=\"48px\"><defs /><svg width=\"100%\" x=\"0\" y=\"0px\"><defs /><text text-anchor=\"middle\" x=\"50%\" y=\"16px\">breeze</text></svg></svg><line stroke=\"black\" x1=\"50%\" x2=\"50%\" y1=\"19.2px\" y2=\"48px\" /></svg><line stroke=\"black\" x1=\"50%\" x2=\"50%\" y1=\"19.2px\" y2=\"48px\" /></svg><line stroke=\"black\" x1=\"50%\" x2=\"78.5714%\" y1=\"19.2px\" y2=\"48px\" /></svg><line stroke=\"black\" x1=\"50%\" x2=\"11.0526%\" y1=\"19.2px\" y2=\"48px\" /><svg width=\"77.8947%\" x=\"22.1053%\" y=\"48px\"><defs /><svg width=\"100%\" x=\"0\" y=\"0px\"><defs /><text text-anchor=\"middle\" x=\"50%\" y=\"16px\">VerbPhrase</text></svg><svg width=\"8.10811%\" x=\"0%\" y=\"48px\"><defs /><svg width=\"100%\" x=\"0\" y=\"0px\"><defs /><text text-anchor=\"middle\" x=\"50%\" y=\"16px\">Verb</text></svg><svg width=\"100%\" x=\"0%\" y=\"48px\"><defs /><svg width=\"100%\" x=\"0\" y=\"0px\"><defs /><text text-anchor=\"middle\" x=\"50%\" y=\"16px\">is</text></svg></svg><line stroke=\"black\" x1=\"50%\" x2=\"50%\" y1=\"19.2px\" y2=\"48px\" /></svg><line stroke=\"black\" x1=\"50%\" x2=\"4.05405%\" y1=\"19.2px\" y2=\"48px\" /><svg width=\"91.8919%\" x=\"8.10811%\" y=\"48px\"><defs /><svg width=\"100%\" x=\"0\" y=\"0px\"><defs /><text text-anchor=\"middle\" x=\"50%\" y=\"16px\">PrepositionalPhrase</text></svg><svg width=\"19.1176%\" x=\"0%\" y=\"48px\"><defs /><svg width=\"100%\" x=\"0\" y=\"0px\"><defs /><text text-anchor=\"middle\" x=\"50%\" y=\"16px\">Preposition</text></svg><svg width=\"100%\" x=\"0%\" y=\"48px\"><defs /><svg width=\"100%\" x=\"0\" y=\"0px\"><defs /><text text-anchor=\"middle\" x=\"50%\" y=\"16px\">on</text></svg></svg><line stroke=\"black\" x1=\"50%\" x2=\"50%\" y1=\"19.2px\" y2=\"48px\" /></svg><line stroke=\"black\" x1=\"50%\" x2=\"9.55882%\" y1=\"19.2px\" y2=\"48px\" /><svg width=\"30.8824%\" x=\"19.1176%\" y=\"48px\"><defs /><svg width=\"100%\" x=\"0\" y=\"0px\"><defs /><text text-anchor=\"middle\" x=\"50%\" y=\"16px\">NounPhrase</text></svg><svg width=\"57.1429%\" x=\"0%\" y=\"48px\"><defs /><svg width=\"100%\" x=\"0\" y=\"0px\"><defs /><text text-anchor=\"middle\" x=\"50%\" y=\"16px\">Determiner</text></svg><svg width=\"100%\" x=\"0%\" y=\"48px\"><defs /><svg width=\"100%\" x=\"0\" y=\"0px\"><defs /><text text-anchor=\"middle\" x=\"50%\" y=\"16px\">the</text></svg></svg><line stroke=\"black\" x1=\"50%\" x2=\"50%\" y1=\"19.2px\" y2=\"48px\" /></svg><line stroke=\"black\" x1=\"50%\" x2=\"28.5714%\" y1=\"19.2px\" y2=\"48px\" /><svg width=\"42.8571%\" x=\"57.1429%\" y=\"48px\"><defs /><svg width=\"100%\" x=\"0\" y=\"0px\"><defs /><text text-anchor=\"middle\" x=\"50%\" y=\"16px\">Nominal</text></svg><svg width=\"100%\" x=\"0%\" y=\"48px\"><defs /><svg width=\"100%\" x=\"0\" y=\"0px\"><defs /><text text-anchor=\"middle\" x=\"50%\" y=\"16px\">Noun</text></svg><svg width=\"100%\" x=\"0%\" y=\"48px\"><defs /><svg width=\"100%\" x=\"0\" y=\"0px\"><defs /><text text-anchor=\"middle\" x=\"50%\" y=\"16px\">flight</text></svg></svg><line stroke=\"black\" x1=\"50%\" x2=\"50%\" y1=\"19.2px\" y2=\"48px\" /></svg><line stroke=\"black\" x1=\"50%\" x2=\"50%\" y1=\"19.2px\" y2=\"48px\" /></svg><line stroke=\"black\" x1=\"50%\" x2=\"78.5714%\" y1=\"19.2px\" y2=\"48px\" /></svg><line stroke=\"black\" x1=\"50%\" x2=\"34.5588%\" y1=\"19.2px\" y2=\"48px\" /><svg width=\"50%\" x=\"50%\" y=\"48px\"><defs /><svg width=\"100%\" x=\"0\" y=\"0px\"><defs /><text text-anchor=\"middle\" x=\"50%\" y=\"16px\">PrepositionalPhrase</text></svg><svg width=\"38.2353%\" x=\"0%\" y=\"48px\"><defs /><svg width=\"100%\" x=\"0\" y=\"0px\"><defs /><text text-anchor=\"middle\" x=\"50%\" y=\"16px\">Preposition</text></svg><svg width=\"100%\" x=\"0%\" y=\"48px\"><defs /><svg width=\"100%\" x=\"0\" y=\"0px\"><defs /><text text-anchor=\"middle\" x=\"50%\" y=\"16px\">from</text></svg></svg><line stroke=\"black\" x1=\"50%\" x2=\"50%\" y1=\"19.2px\" y2=\"48px\" /></svg><line stroke=\"black\" x1=\"50%\" x2=\"19.1176%\" y1=\"19.2px\" y2=\"48px\" /><svg width=\"61.7647%\" x=\"38.2353%\" y=\"48px\"><defs /><svg width=\"100%\" x=\"0\" y=\"0px\"><defs /><text text-anchor=\"middle\" x=\"50%\" y=\"16px\">NounPhrase</text></svg><svg width=\"57.1429%\" x=\"0%\" y=\"48px\"><defs /><svg width=\"100%\" x=\"0\" y=\"0px\"><defs /><text text-anchor=\"middle\" x=\"50%\" y=\"16px\">Determiner</text></svg><svg width=\"100%\" x=\"0%\" y=\"48px\"><defs /><svg width=\"100%\" x=\"0\" y=\"0px\"><defs /><text text-anchor=\"middle\" x=\"50%\" y=\"16px\">my</text></svg></svg><line stroke=\"black\" x1=\"50%\" x2=\"50%\" y1=\"19.2px\" y2=\"48px\" /></svg><line stroke=\"black\" x1=\"50%\" x2=\"28.5714%\" y1=\"19.2px\" y2=\"48px\" /><svg width=\"42.8571%\" x=\"57.1429%\" y=\"48px\"><defs /><svg width=\"100%\" x=\"0\" y=\"0px\"><defs /><text text-anchor=\"middle\" x=\"50%\" y=\"16px\">Nominal</text></svg><svg width=\"100%\" x=\"0%\" y=\"48px\"><defs /><svg width=\"100%\" x=\"0\" y=\"0px\"><defs /><text text-anchor=\"middle\" x=\"50%\" y=\"16px\">Noun</text></svg><svg width=\"100%\" x=\"0%\" y=\"48px\"><defs /><svg width=\"100%\" x=\"0\" y=\"0px\"><defs /><text text-anchor=\"middle\" x=\"50%\" y=\"16px\">pajamas</text></svg></svg><line stroke=\"black\" x1=\"50%\" x2=\"50%\" y1=\"19.2px\" y2=\"48px\" /></svg><line stroke=\"black\" x1=\"50%\" x2=\"50%\" y1=\"19.2px\" y2=\"48px\" /></svg><line stroke=\"black\" x1=\"50%\" x2=\"78.5714%\" y1=\"19.2px\" y2=\"48px\" /></svg><line stroke=\"black\" x1=\"50%\" x2=\"69.1176%\" y1=\"19.2px\" y2=\"48px\" /></svg><line stroke=\"black\" x1=\"50%\" x2=\"75%\" y1=\"19.2px\" y2=\"48px\" /></svg><line stroke=\"black\" x1=\"50%\" x2=\"54.0541%\" y1=\"19.2px\" y2=\"48px\" /></svg><line stroke=\"black\" x1=\"50%\" x2=\"61.0526%\" y1=\"19.2px\" y2=\"48px\" /></svg>"
      ],
      "text/plain": [
       "Tree('Sentence', [Tree('NounPhrase', [Tree('Determiner', ['the']), Tree('Nominal', [Tree('Noun', ['breeze'])])]), Tree('VerbPhrase', [Tree('Verb', ['is']), Tree('PrepositionalPhrase', [Tree('Preposition', ['on']), Tree('NounPhrase', [Tree('Determiner', ['the']), Tree('Nominal', [Tree('Noun', ['flight'])])]), Tree('PrepositionalPhrase', [Tree('Preposition', ['from']), Tree('NounPhrase', [Tree('Determiner', ['my']), Tree('Nominal', [Tree('Noun', ['pajamas'])])])])])])])"
      ]
     },
     "metadata": {},
     "output_type": "display_data"
    }
   ],
   "source": [
    "import nltk\n",
    "\n",
    "\n",
    "productions = [\n",
    "    nltk.Production(nltk.Nonterminal('Sentence'), [nltk.Nonterminal('NounPhrase'), nltk.Nonterminal('VerbPhrase')]),\n",
    "    nltk.Production(nltk.Nonterminal('NounPhrase'), [nltk.Nonterminal('Pronoun')]),\n",
    "    nltk.Production(nltk.Nonterminal('NounPhrase'), [nltk.Nonterminal('Determiner'), nltk.Nonterminal('Nominal')]),\n",
    "    nltk.Production(nltk.Nonterminal('NounPhrase'), [nltk.Nonterminal('Nominal')]),\n",
    "    nltk.Production(nltk.Nonterminal('Nominal'), [nltk.Nonterminal('Nominal'), nltk.Nonterminal('Noun')]),\n",
    "    nltk.Production(nltk.Nonterminal('Nominal'), [nltk.Nonterminal('Noun')]),\n",
    "    \n",
    "    \n",
    "    nltk.Production(nltk.Nonterminal('VerbPhrase'), [nltk.Nonterminal('Verb'), nltk.Nonterminal('NounPhrase')]),\n",
    "    nltk.Production(nltk.Nonterminal('VerbPhrase'), [nltk.Nonterminal('Verb'), nltk.Nonterminal('NounPhrase'), nltk.Nonterminal('PrepositionalPhrase')]),\n",
    "    nltk.Production(nltk.Nonterminal('VerbPhrase'), [nltk.Nonterminal('Verb'), nltk.Nonterminal('PrepositionalPhrase')]),\n",
    "    \n",
    "    nltk.Production(nltk.Nonterminal('PrepositionalPhrase'), [nltk.Nonterminal('Preposition'), nltk.Nonterminal('NounPhrase')]),\n",
    "    nltk.Production(nltk.Nonterminal('PrepositionalPhrase'), [nltk.Nonterminal('Preposition'), nltk.Nonterminal('NounPhrase'), nltk.Nonterminal('PrepositionalPhrase')]),\n",
    "    \n",
    "    # Productions for Determiner\n",
    "    nltk.Production(nltk.Nonterminal('Determiner'), ['a']),\n",
    "    nltk.Production(nltk.Nonterminal('Determiner'), ['an']),\n",
    "    nltk.Production(nltk.Nonterminal('Determiner'), ['the']),\n",
    "    nltk.Production(nltk.Nonterminal('Determiner'), ['this']),\n",
    "    nltk.Production(nltk.Nonterminal('Determiner'), ['that']),\n",
    "    nltk.Production(nltk.Nonterminal('Determiner'), ['my']),\n",
    "    # Add more Determiner productions as needed\n",
    "    \n",
    "    # Productions for Pronoun\n",
    "    nltk.Production(nltk.Nonterminal('Pronoun'), ['me']),\n",
    "    nltk.Production(nltk.Nonterminal('Pronoun'), ['I']),\n",
    "    nltk.Production(nltk.Nonterminal('Pronoun'), ['you']),\n",
    "    nltk.Production(nltk.Nonterminal('Pronoun'), ['it']),\n",
    "    # Add more Pronoun productions as needed\n",
    "        \n",
    "\n",
    "    # Productions for Noun\n",
    "    nltk.Production(nltk.Nonterminal('Noun'), ['flights']),\n",
    "    nltk.Production(nltk.Nonterminal('Noun'), ['flight']),\n",
    "    nltk.Production(nltk.Nonterminal('Noun'), ['breeze']),\n",
    "    nltk.Production(nltk.Nonterminal('Noun'), ['trip']),\n",
    "    nltk.Production(nltk.Nonterminal('Noun'), ['morning']),\n",
    "    nltk.Production(nltk.Nonterminal('Noun'), ['elephant']),\n",
    "    nltk.Production(nltk.Nonterminal('Noun'), ['pajamas']),\n",
    "    # Add more Noun productions as needed\n",
    "\n",
    "    # Productions for Verb\n",
    "    nltk.Production(nltk.Nonterminal('Verb'), ['is']),\n",
    "    nltk.Production(nltk.Nonterminal('Verb'), ['prefer']),\n",
    "    nltk.Production(nltk.Nonterminal('Verb'), ['like']),\n",
    "    nltk.Production(nltk.Nonterminal('Verb'), ['need']),\n",
    "    nltk.Production(nltk.Nonterminal('Verb'), ['want']),\n",
    "    nltk.Production(nltk.Nonterminal('Verb'), ['fly']),\n",
    "    nltk.Production(nltk.Nonterminal('Verb'), ['do']),\n",
    "    nltk.Production(nltk.Nonterminal('Verb'), ['shot']),\n",
    "    # Add more Verb productions as needed\n",
    "\n",
    "    # Productions for Preposition\n",
    "    nltk.Production(nltk.Nonterminal('Preposition'), ['from']),\n",
    "    nltk.Production(nltk.Nonterminal('Preposition'), ['to']),\n",
    "    nltk.Production(nltk.Nonterminal('Preposition'), ['on']),\n",
    "    nltk.Production(nltk.Nonterminal('Preposition'), ['near']),\n",
    "    nltk.Production(nltk.Nonterminal('Preposition'), ['in']),\n",
    "    # Add more Preposition productions as needed\n",
    "]\n",
    "\n",
    "#Sentence is top-level symbol\n",
    "custom_grammar = nltk.CFG(nltk.Nonterminal('Sentence'), productions)\n",
    "\n",
    "#we'll talk about parsers later\n",
    "parser = nltk.ChartParser(custom_grammar)\n",
    "\n",
    "#an example tokenized sentence\n",
    "sentence = \"the breeze is on the flight from my pajamas\".split()\n",
    "\n",
    "\n",
    "#there could be many trees\n",
    "for tree in parser.parse(sentence):\n",
    "    # Visualize the parse tree\n",
    "    print(\"Here's what the internal structure looks like:\")\n",
    "    print(list(tree))\n",
    "    #nltk.draw.tree.draw_trees(tree) #uncomment to get an image\n",
    "    print(\"\\nHere's what the parse tree looks like graphically:\")\n",
    "    display(tree)"
   ]
  },
  {
   "cell_type": "code",
   "execution_count": null,
   "metadata": {},
   "outputs": [],
   "source": []
  },
  {
   "cell_type": "code",
   "execution_count": null,
   "metadata": {},
   "outputs": [],
   "source": []
  },
  {
   "cell_type": "code",
   "execution_count": null,
   "metadata": {},
   "outputs": [],
   "source": []
  },
  {
   "cell_type": "markdown",
   "metadata": {},
   "source": [
    "## Group Exercise\n",
    "\n",
    "Add productions to the grammar that allows for multiple prepositional phrases like `I fly in the morning on a flight`\n",
    "\n",
    "<div>\n",
    "<img src=\"images/preposition_parse_tree1.png\" width=500/>\n",
    "</div>"
   ]
  },
  {
   "cell_type": "markdown",
   "metadata": {},
   "source": [
    "## Ambiguity\n",
    "\n",
    "An ambiguous grammar is a grammar in which the same sentence can have multiple trees.\n",
    "\n",
    "\n",
    "<div>\n",
    "<img src=\"images/elephant_pajamas_1.png\" width=500/><img src=\"images/elephant_pajamas_2.png\" width=500/>\n",
    "</div>"
   ]
  },
  {
   "cell_type": "markdown",
   "metadata": {
    "slideshow": {
     "slide_type": "fragment"
    }
   },
   "source": [
    "### Most natural languages are ambiguous\n",
    "\n",
    "\n",
    "*One morning I shot an elephant in my pajamas. How he got into my pajamas I don’t know.* - Groucho Marx\n",
    "\n",
    "With programming languages, designers try to define them so that the grammars are unambiguous\n",
    "\n",
    "It isn't possible with most natural languages\n",
    "\n",
    "\n",
    "### Group Exercise\n",
    "\n",
    "Find another sentence with more than one parse tree for this grammar:\n",
    "\n",
    "\n"
   ]
  },
  {
   "cell_type": "code",
   "execution_count": 4,
   "metadata": {},
   "outputs": [
    {
     "data": {
      "image/svg+xml": [
       "<svg baseProfile=\"full\" height=\"312px\" preserveAspectRatio=\"xMidYMid meet\" style=\"font-family: times, serif; font-weight: normal; font-style: normal; font-size: 16px;\" version=\"1.1\" viewBox=\"0,0,592.0,312.0\" width=\"592px\" xmlns=\"http://www.w3.org/2000/svg\" xmlns:ev=\"http://www.w3.org/2001/xml-events\" xmlns:xlink=\"http://www.w3.org/1999/xlink\"><defs /><svg width=\"100%\" x=\"0\" y=\"0px\"><defs /><text text-anchor=\"middle\" x=\"50%\" y=\"16px\">Sentence</text></svg><svg width=\"16.2162%\" x=\"0%\" y=\"48px\"><defs /><svg width=\"100%\" x=\"0\" y=\"0px\"><defs /><text text-anchor=\"middle\" x=\"50%\" y=\"16px\">NounPhrase</text></svg><svg width=\"100%\" x=\"0%\" y=\"48px\"><defs /><svg width=\"100%\" x=\"0\" y=\"0px\"><defs /><text text-anchor=\"middle\" x=\"50%\" y=\"16px\">Pronoun</text></svg><svg width=\"100%\" x=\"0%\" y=\"48px\"><defs /><svg width=\"100%\" x=\"0\" y=\"0px\"><defs /><text text-anchor=\"middle\" x=\"50%\" y=\"16px\">I</text></svg></svg><line stroke=\"black\" x1=\"50%\" x2=\"50%\" y1=\"19.2px\" y2=\"48px\" /></svg><line stroke=\"black\" x1=\"50%\" x2=\"50%\" y1=\"19.2px\" y2=\"48px\" /></svg><line stroke=\"black\" x1=\"50%\" x2=\"8.10811%\" y1=\"19.2px\" y2=\"48px\" /><svg width=\"83.7838%\" x=\"16.2162%\" y=\"48px\"><defs /><svg width=\"100%\" x=\"0\" y=\"0px\"><defs /><text text-anchor=\"middle\" x=\"50%\" y=\"16px\">VerbPhrase</text></svg><svg width=\"9.67742%\" x=\"0%\" y=\"48px\"><defs /><svg width=\"100%\" x=\"0\" y=\"0px\"><defs /><text text-anchor=\"middle\" x=\"50%\" y=\"16px\">Verb</text></svg><svg width=\"100%\" x=\"0%\" y=\"48px\"><defs /><svg width=\"100%\" x=\"0\" y=\"0px\"><defs /><text text-anchor=\"middle\" x=\"50%\" y=\"16px\">shot</text></svg></svg><line stroke=\"black\" x1=\"50%\" x2=\"50%\" y1=\"19.2px\" y2=\"48px\" /></svg><line stroke=\"black\" x1=\"50%\" x2=\"4.83871%\" y1=\"19.2px\" y2=\"48px\" /><svg width=\"35.4839%\" x=\"9.67742%\" y=\"48px\"><defs /><svg width=\"100%\" x=\"0\" y=\"0px\"><defs /><text text-anchor=\"middle\" x=\"50%\" y=\"16px\">NounPhrase</text></svg><svg width=\"54.5455%\" x=\"0%\" y=\"48px\"><defs /><svg width=\"100%\" x=\"0\" y=\"0px\"><defs /><text text-anchor=\"middle\" x=\"50%\" y=\"16px\">Determiner</text></svg><svg width=\"100%\" x=\"0%\" y=\"48px\"><defs /><svg width=\"100%\" x=\"0\" y=\"0px\"><defs /><text text-anchor=\"middle\" x=\"50%\" y=\"16px\">an</text></svg></svg><line stroke=\"black\" x1=\"50%\" x2=\"50%\" y1=\"19.2px\" y2=\"48px\" /></svg><line stroke=\"black\" x1=\"50%\" x2=\"27.2727%\" y1=\"19.2px\" y2=\"48px\" /><svg width=\"45.4545%\" x=\"54.5455%\" y=\"48px\"><defs /><svg width=\"100%\" x=\"0\" y=\"0px\"><defs /><text text-anchor=\"middle\" x=\"50%\" y=\"16px\">Nominal</text></svg><svg width=\"100%\" x=\"0%\" y=\"48px\"><defs /><svg width=\"100%\" x=\"0\" y=\"0px\"><defs /><text text-anchor=\"middle\" x=\"50%\" y=\"16px\">Noun</text></svg><svg width=\"100%\" x=\"0%\" y=\"48px\"><defs /><svg width=\"100%\" x=\"0\" y=\"0px\"><defs /><text text-anchor=\"middle\" x=\"50%\" y=\"16px\">elephant</text></svg></svg><line stroke=\"black\" x1=\"50%\" x2=\"50%\" y1=\"19.2px\" y2=\"48px\" /></svg><line stroke=\"black\" x1=\"50%\" x2=\"50%\" y1=\"19.2px\" y2=\"48px\" /></svg><line stroke=\"black\" x1=\"50%\" x2=\"77.2727%\" y1=\"19.2px\" y2=\"48px\" /></svg><line stroke=\"black\" x1=\"50%\" x2=\"27.4194%\" y1=\"19.2px\" y2=\"48px\" /><svg width=\"54.8387%\" x=\"45.1613%\" y=\"48px\"><defs /><svg width=\"100%\" x=\"0\" y=\"0px\"><defs /><text text-anchor=\"middle\" x=\"50%\" y=\"16px\">PrepositionalPhrase</text></svg><svg width=\"38.2353%\" x=\"0%\" y=\"48px\"><defs /><svg width=\"100%\" x=\"0\" y=\"0px\"><defs /><text text-anchor=\"middle\" x=\"50%\" y=\"16px\">Preposition</text></svg><svg width=\"100%\" x=\"0%\" y=\"48px\"><defs /><svg width=\"100%\" x=\"0\" y=\"0px\"><defs /><text text-anchor=\"middle\" x=\"50%\" y=\"16px\">in</text></svg></svg><line stroke=\"black\" x1=\"50%\" x2=\"50%\" y1=\"19.2px\" y2=\"48px\" /></svg><line stroke=\"black\" x1=\"50%\" x2=\"19.1176%\" y1=\"19.2px\" y2=\"48px\" /><svg width=\"61.7647%\" x=\"38.2353%\" y=\"48px\"><defs /><svg width=\"100%\" x=\"0\" y=\"0px\"><defs /><text text-anchor=\"middle\" x=\"50%\" y=\"16px\">NounPhrase</text></svg><svg width=\"57.1429%\" x=\"0%\" y=\"48px\"><defs /><svg width=\"100%\" x=\"0\" y=\"0px\"><defs /><text text-anchor=\"middle\" x=\"50%\" y=\"16px\">Determiner</text></svg><svg width=\"100%\" x=\"0%\" y=\"48px\"><defs /><svg width=\"100%\" x=\"0\" y=\"0px\"><defs /><text text-anchor=\"middle\" x=\"50%\" y=\"16px\">my</text></svg></svg><line stroke=\"black\" x1=\"50%\" x2=\"50%\" y1=\"19.2px\" y2=\"48px\" /></svg><line stroke=\"black\" x1=\"50%\" x2=\"28.5714%\" y1=\"19.2px\" y2=\"48px\" /><svg width=\"42.8571%\" x=\"57.1429%\" y=\"48px\"><defs /><svg width=\"100%\" x=\"0\" y=\"0px\"><defs /><text text-anchor=\"middle\" x=\"50%\" y=\"16px\">Nominal</text></svg><svg width=\"100%\" x=\"0%\" y=\"48px\"><defs /><svg width=\"100%\" x=\"0\" y=\"0px\"><defs /><text text-anchor=\"middle\" x=\"50%\" y=\"16px\">Noun</text></svg><svg width=\"100%\" x=\"0%\" y=\"48px\"><defs /><svg width=\"100%\" x=\"0\" y=\"0px\"><defs /><text text-anchor=\"middle\" x=\"50%\" y=\"16px\">pajamas</text></svg></svg><line stroke=\"black\" x1=\"50%\" x2=\"50%\" y1=\"19.2px\" y2=\"48px\" /></svg><line stroke=\"black\" x1=\"50%\" x2=\"50%\" y1=\"19.2px\" y2=\"48px\" /></svg><line stroke=\"black\" x1=\"50%\" x2=\"78.5714%\" y1=\"19.2px\" y2=\"48px\" /></svg><line stroke=\"black\" x1=\"50%\" x2=\"69.1176%\" y1=\"19.2px\" y2=\"48px\" /></svg><line stroke=\"black\" x1=\"50%\" x2=\"72.5806%\" y1=\"19.2px\" y2=\"48px\" /></svg><line stroke=\"black\" x1=\"50%\" x2=\"58.1081%\" y1=\"19.2px\" y2=\"48px\" /></svg>"
      ],
      "text/plain": [
       "Tree('Sentence', [Tree('NounPhrase', [Tree('Pronoun', ['I'])]), Tree('VerbPhrase', [Tree('Verb', ['shot']), Tree('NounPhrase', [Tree('Determiner', ['an']), Tree('Nominal', [Tree('Noun', ['elephant'])])]), Tree('PrepositionalPhrase', [Tree('Preposition', ['in']), Tree('NounPhrase', [Tree('Determiner', ['my']), Tree('Nominal', [Tree('Noun', ['pajamas'])])])])])])"
      ]
     },
     "metadata": {},
     "output_type": "display_data"
    },
    {
     "data": {
      "image/svg+xml": [
       "<svg baseProfile=\"full\" height=\"408px\" preserveAspectRatio=\"xMidYMid meet\" style=\"font-family: times, serif; font-weight: normal; font-style: normal; font-size: 16px;\" version=\"1.1\" viewBox=\"0,0,592.0,408.0\" width=\"592px\" xmlns=\"http://www.w3.org/2000/svg\" xmlns:ev=\"http://www.w3.org/2001/xml-events\" xmlns:xlink=\"http://www.w3.org/1999/xlink\"><defs /><svg width=\"100%\" x=\"0\" y=\"0px\"><defs /><text text-anchor=\"middle\" x=\"50%\" y=\"16px\">Sentence</text></svg><svg width=\"16.2162%\" x=\"0%\" y=\"48px\"><defs /><svg width=\"100%\" x=\"0\" y=\"0px\"><defs /><text text-anchor=\"middle\" x=\"50%\" y=\"16px\">NounPhrase</text></svg><svg width=\"100%\" x=\"0%\" y=\"48px\"><defs /><svg width=\"100%\" x=\"0\" y=\"0px\"><defs /><text text-anchor=\"middle\" x=\"50%\" y=\"16px\">Pronoun</text></svg><svg width=\"100%\" x=\"0%\" y=\"48px\"><defs /><svg width=\"100%\" x=\"0\" y=\"0px\"><defs /><text text-anchor=\"middle\" x=\"50%\" y=\"16px\">I</text></svg></svg><line stroke=\"black\" x1=\"50%\" x2=\"50%\" y1=\"19.2px\" y2=\"48px\" /></svg><line stroke=\"black\" x1=\"50%\" x2=\"50%\" y1=\"19.2px\" y2=\"48px\" /></svg><line stroke=\"black\" x1=\"50%\" x2=\"8.10811%\" y1=\"19.2px\" y2=\"48px\" /><svg width=\"83.7838%\" x=\"16.2162%\" y=\"48px\"><defs /><svg width=\"100%\" x=\"0\" y=\"0px\"><defs /><text text-anchor=\"middle\" x=\"50%\" y=\"16px\">VerbPhrase</text></svg><svg width=\"9.67742%\" x=\"0%\" y=\"48px\"><defs /><svg width=\"100%\" x=\"0\" y=\"0px\"><defs /><text text-anchor=\"middle\" x=\"50%\" y=\"16px\">Verb</text></svg><svg width=\"100%\" x=\"0%\" y=\"48px\"><defs /><svg width=\"100%\" x=\"0\" y=\"0px\"><defs /><text text-anchor=\"middle\" x=\"50%\" y=\"16px\">shot</text></svg></svg><line stroke=\"black\" x1=\"50%\" x2=\"50%\" y1=\"19.2px\" y2=\"48px\" /></svg><line stroke=\"black\" x1=\"50%\" x2=\"4.83871%\" y1=\"19.2px\" y2=\"48px\" /><svg width=\"90.3226%\" x=\"9.67742%\" y=\"48px\"><defs /><svg width=\"100%\" x=\"0\" y=\"0px\"><defs /><text text-anchor=\"middle\" x=\"50%\" y=\"16px\">NounPhrase</text></svg><svg width=\"21.4286%\" x=\"0%\" y=\"48px\"><defs /><svg width=\"100%\" x=\"0\" y=\"0px\"><defs /><text text-anchor=\"middle\" x=\"50%\" y=\"16px\">Determiner</text></svg><svg width=\"100%\" x=\"0%\" y=\"48px\"><defs /><svg width=\"100%\" x=\"0\" y=\"0px\"><defs /><text text-anchor=\"middle\" x=\"50%\" y=\"16px\">an</text></svg></svg><line stroke=\"black\" x1=\"50%\" x2=\"50%\" y1=\"19.2px\" y2=\"48px\" /></svg><line stroke=\"black\" x1=\"50%\" x2=\"10.7143%\" y1=\"19.2px\" y2=\"48px\" /><svg width=\"78.5714%\" x=\"21.4286%\" y=\"48px\"><defs /><svg width=\"100%\" x=\"0\" y=\"0px\"><defs /><text text-anchor=\"middle\" x=\"50%\" y=\"16px\">Nominal</text></svg><svg width=\"22.7273%\" x=\"0%\" y=\"48px\"><defs /><svg width=\"100%\" x=\"0\" y=\"0px\"><defs /><text text-anchor=\"middle\" x=\"50%\" y=\"16px\">Nominal</text></svg><svg width=\"100%\" x=\"0%\" y=\"48px\"><defs /><svg width=\"100%\" x=\"0\" y=\"0px\"><defs /><text text-anchor=\"middle\" x=\"50%\" y=\"16px\">Noun</text></svg><svg width=\"100%\" x=\"0%\" y=\"48px\"><defs /><svg width=\"100%\" x=\"0\" y=\"0px\"><defs /><text text-anchor=\"middle\" x=\"50%\" y=\"16px\">elephant</text></svg></svg><line stroke=\"black\" x1=\"50%\" x2=\"50%\" y1=\"19.2px\" y2=\"48px\" /></svg><line stroke=\"black\" x1=\"50%\" x2=\"50%\" y1=\"19.2px\" y2=\"48px\" /></svg><line stroke=\"black\" x1=\"50%\" x2=\"11.3636%\" y1=\"19.2px\" y2=\"48px\" /><svg width=\"77.2727%\" x=\"22.7273%\" y=\"48px\"><defs /><svg width=\"100%\" x=\"0\" y=\"0px\"><defs /><text text-anchor=\"middle\" x=\"50%\" y=\"16px\">PrepositionalPhrase</text></svg><svg width=\"38.2353%\" x=\"0%\" y=\"48px\"><defs /><svg width=\"100%\" x=\"0\" y=\"0px\"><defs /><text text-anchor=\"middle\" x=\"50%\" y=\"16px\">Preposition</text></svg><svg width=\"100%\" x=\"0%\" y=\"48px\"><defs /><svg width=\"100%\" x=\"0\" y=\"0px\"><defs /><text text-anchor=\"middle\" x=\"50%\" y=\"16px\">in</text></svg></svg><line stroke=\"black\" x1=\"50%\" x2=\"50%\" y1=\"19.2px\" y2=\"48px\" /></svg><line stroke=\"black\" x1=\"50%\" x2=\"19.1176%\" y1=\"19.2px\" y2=\"48px\" /><svg width=\"61.7647%\" x=\"38.2353%\" y=\"48px\"><defs /><svg width=\"100%\" x=\"0\" y=\"0px\"><defs /><text text-anchor=\"middle\" x=\"50%\" y=\"16px\">NounPhrase</text></svg><svg width=\"57.1429%\" x=\"0%\" y=\"48px\"><defs /><svg width=\"100%\" x=\"0\" y=\"0px\"><defs /><text text-anchor=\"middle\" x=\"50%\" y=\"16px\">Determiner</text></svg><svg width=\"100%\" x=\"0%\" y=\"48px\"><defs /><svg width=\"100%\" x=\"0\" y=\"0px\"><defs /><text text-anchor=\"middle\" x=\"50%\" y=\"16px\">my</text></svg></svg><line stroke=\"black\" x1=\"50%\" x2=\"50%\" y1=\"19.2px\" y2=\"48px\" /></svg><line stroke=\"black\" x1=\"50%\" x2=\"28.5714%\" y1=\"19.2px\" y2=\"48px\" /><svg width=\"42.8571%\" x=\"57.1429%\" y=\"48px\"><defs /><svg width=\"100%\" x=\"0\" y=\"0px\"><defs /><text text-anchor=\"middle\" x=\"50%\" y=\"16px\">Nominal</text></svg><svg width=\"100%\" x=\"0%\" y=\"48px\"><defs /><svg width=\"100%\" x=\"0\" y=\"0px\"><defs /><text text-anchor=\"middle\" x=\"50%\" y=\"16px\">Noun</text></svg><svg width=\"100%\" x=\"0%\" y=\"48px\"><defs /><svg width=\"100%\" x=\"0\" y=\"0px\"><defs /><text text-anchor=\"middle\" x=\"50%\" y=\"16px\">pajamas</text></svg></svg><line stroke=\"black\" x1=\"50%\" x2=\"50%\" y1=\"19.2px\" y2=\"48px\" /></svg><line stroke=\"black\" x1=\"50%\" x2=\"50%\" y1=\"19.2px\" y2=\"48px\" /></svg><line stroke=\"black\" x1=\"50%\" x2=\"78.5714%\" y1=\"19.2px\" y2=\"48px\" /></svg><line stroke=\"black\" x1=\"50%\" x2=\"69.1176%\" y1=\"19.2px\" y2=\"48px\" /></svg><line stroke=\"black\" x1=\"50%\" x2=\"61.3636%\" y1=\"19.2px\" y2=\"48px\" /></svg><line stroke=\"black\" x1=\"50%\" x2=\"60.7143%\" y1=\"19.2px\" y2=\"48px\" /></svg><line stroke=\"black\" x1=\"50%\" x2=\"54.8387%\" y1=\"19.2px\" y2=\"48px\" /></svg><line stroke=\"black\" x1=\"50%\" x2=\"58.1081%\" y1=\"19.2px\" y2=\"48px\" /></svg>"
      ],
      "text/plain": [
       "Tree('Sentence', [Tree('NounPhrase', [Tree('Pronoun', ['I'])]), Tree('VerbPhrase', [Tree('Verb', ['shot']), Tree('NounPhrase', [Tree('Determiner', ['an']), Tree('Nominal', [Tree('Nominal', [Tree('Noun', ['elephant'])]), Tree('PrepositionalPhrase', [Tree('Preposition', ['in']), Tree('NounPhrase', [Tree('Determiner', ['my']), Tree('Nominal', [Tree('Noun', ['pajamas'])])])])])])])])"
      ]
     },
     "metadata": {},
     "output_type": "display_data"
    }
   ],
   "source": [
    "import nltk\n",
    "\n",
    "\n",
    "productions = [\n",
    "    nltk.Production(nltk.Nonterminal('Sentence'), [nltk.Nonterminal('NounPhrase'), nltk.Nonterminal('VerbPhrase')]),\n",
    "    nltk.Production(nltk.Nonterminal('NounPhrase'), [nltk.Nonterminal('Pronoun')]),\n",
    "    nltk.Production(nltk.Nonterminal('NounPhrase'), [nltk.Nonterminal('Determiner'), nltk.Nonterminal('Nominal')]),\n",
    "    nltk.Production(nltk.Nonterminal('NounPhrase'), [nltk.Nonterminal('Nominal')]),\n",
    "    nltk.Production(nltk.Nonterminal('Nominal'), [nltk.Nonterminal('Nominal'), nltk.Nonterminal('Noun')]),\n",
    "    nltk.Production(nltk.Nonterminal('Nominal'), [nltk.Nonterminal('Nominal'), nltk.Nonterminal('PrepositionalPhrase')]),\n",
    "    nltk.Production(nltk.Nonterminal('Nominal'), [nltk.Nonterminal('Noun')]),\n",
    "    nltk.Production(nltk.Nonterminal('VerbPhrase'), [nltk.Nonterminal('Verb'), nltk.Nonterminal('NounPhrase')]),\n",
    "    nltk.Production(nltk.Nonterminal('VerbPhrase'), [nltk.Nonterminal('Verb'), nltk.Nonterminal('NounPhrase'), nltk.Nonterminal('PrepositionalPhrase')]),\n",
    "    nltk.Production(nltk.Nonterminal('VerbPhrase'), [nltk.Nonterminal('Verb'), nltk.Nonterminal('PrepositionalPhrase')]),\n",
    "    nltk.Production(nltk.Nonterminal('PrepositionalPhrase'), [nltk.Nonterminal('Preposition'), nltk.Nonterminal('NounPhrase')]),\n",
    "    \n",
    "    # Productions for Determiner\n",
    "    nltk.Production(nltk.Nonterminal('Determiner'), ['a']),\n",
    "    nltk.Production(nltk.Nonterminal('Determiner'), ['an']),\n",
    "    nltk.Production(nltk.Nonterminal('Determiner'), ['the']),\n",
    "    nltk.Production(nltk.Nonterminal('Determiner'), ['this']),\n",
    "    nltk.Production(nltk.Nonterminal('Determiner'), ['that']),\n",
    "    nltk.Production(nltk.Nonterminal('Determiner'), ['my']),\n",
    "    # Add more Determiner productions as needed\n",
    "    \n",
    "    # Productions for Pronoun\n",
    "    nltk.Production(nltk.Nonterminal('Pronoun'), ['me']),\n",
    "    nltk.Production(nltk.Nonterminal('Pronoun'), ['I']),\n",
    "    nltk.Production(nltk.Nonterminal('Pronoun'), ['you']),\n",
    "    nltk.Production(nltk.Nonterminal('Pronoun'), ['it']),\n",
    "    # Add more Pronoun productions as needed\n",
    "\n",
    "    # Productions for Noun\n",
    "    nltk.Production(nltk.Nonterminal('Noun'), ['flights']),\n",
    "    nltk.Production(nltk.Nonterminal('Noun'), ['flight']),\n",
    "    nltk.Production(nltk.Nonterminal('Noun'), ['breeze']),\n",
    "    nltk.Production(nltk.Nonterminal('Noun'), ['trip']),\n",
    "    nltk.Production(nltk.Nonterminal('Noun'), ['morning']),\n",
    "    nltk.Production(nltk.Nonterminal('Noun'), ['elephant']),\n",
    "    nltk.Production(nltk.Nonterminal('Noun'), ['pajamas']),\n",
    "    # Add more Noun productions as needed\n",
    "\n",
    "    # Productions for Verb\n",
    "    nltk.Production(nltk.Nonterminal('Verb'), ['is']),\n",
    "    nltk.Production(nltk.Nonterminal('Verb'), ['prefer']),\n",
    "    nltk.Production(nltk.Nonterminal('Verb'), ['like']),\n",
    "    nltk.Production(nltk.Nonterminal('Verb'), ['need']),\n",
    "    nltk.Production(nltk.Nonterminal('Verb'), ['want']),\n",
    "    nltk.Production(nltk.Nonterminal('Verb'), ['fly']),\n",
    "    nltk.Production(nltk.Nonterminal('Verb'), ['do']),\n",
    "    nltk.Production(nltk.Nonterminal('Verb'), ['shot']),\n",
    "    # Add more Verb productions as needed\n",
    "\n",
    "    # Productions for Preposition\n",
    "    nltk.Production(nltk.Nonterminal('Preposition'), ['from']),\n",
    "    nltk.Production(nltk.Nonterminal('Preposition'), ['to']),\n",
    "    nltk.Production(nltk.Nonterminal('Preposition'), ['on']),\n",
    "    nltk.Production(nltk.Nonterminal('Preposition'), ['near']),\n",
    "    nltk.Production(nltk.Nonterminal('Preposition'), ['in']),\n",
    "    # Add more Preposition productions as needed\n",
    "]\n",
    "\n",
    "custom_grammar = nltk.CFG(nltk.Nonterminal('Sentence'), productions)\n",
    "\n",
    "parser = nltk.ChartParser(custom_grammar)\n",
    "sentence = \"I shot an elephant in my pajamas\".split()\n",
    "for tree in parser.parse(sentence):\n",
    "    display(tree)\n"
   ]
  },
  {
   "cell_type": "markdown",
   "metadata": {
    "slideshow": {
     "slide_type": "slide"
    }
   },
   "source": [
    "## Group Discussion\n",
    "\n",
    "What are some strategies you can think of for figuring out which tree is really the correct one?"
   ]
  },
  {
   "cell_type": "markdown",
   "metadata": {
    "slideshow": {
     "slide_type": "slide"
    }
   },
   "source": [
    "## Penn Treebank Grammar\n",
    "\n",
    "Remember our Penn Treebank dataset that was tagged with parts of speech? It also has full parse trees built for the sentences in the dataset."
   ]
  },
  {
   "cell_type": "code",
   "execution_count": 17,
   "metadata": {},
   "outputs": [
    {
     "name": "stdout",
     "output_type": "stream",
     "text": [
      "[Tree('S', [Tree('NP-SBJ', [Tree('NP', [Tree('NNP', ['Pierre']), Tree('NNP', ['Vinken'])]), Tree(',', [',']), Tree('ADJP', [Tree('NP', [Tree('CD', ['61']), Tree('NNS', ['years'])]), Tree('JJ', ['old'])]), Tree(',', [','])]), Tree('VP', [Tree('MD', ['will']), Tree('VP', [Tree('VB', ['join']), Tree('NP', [Tree('DT', ['the']), Tree('NN', ['board'])]), Tree('PP-CLR', [Tree('IN', ['as']), Tree('NP', [Tree('DT', ['a']), Tree('JJ', ['nonexecutive']), Tree('NN', ['director'])])]), Tree('NP-TMP', [Tree('NNP', ['Nov.']), Tree('CD', ['29'])])])]), Tree('.', ['.'])]), Tree('S', [Tree('NP-SBJ', [Tree('NNP', ['Mr.']), Tree('NNP', ['Vinken'])]), Tree('VP', [Tree('VBZ', ['is']), Tree('NP-PRD', [Tree('NP', [Tree('NN', ['chairman'])]), Tree('PP', [Tree('IN', ['of']), Tree('NP', [Tree('NP', [Tree('NNP', ['Elsevier']), Tree('NNP', ['N.V.'])]), Tree(',', [',']), Tree('NP', [Tree('DT', ['the']), Tree('NNP', ['Dutch']), Tree('VBG', ['publishing']), Tree('NN', ['group'])])])])])]), Tree('.', ['.'])]), ...]\n"
     ]
    },
    {
     "name": "stderr",
     "output_type": "stream",
     "text": [
      "[nltk_data] Downloading package treebank to\n",
      "[nltk_data]     /Users/elijahlueders/nltk_data...\n",
      "[nltk_data]   Package treebank is already up-to-date!\n"
     ]
    }
   ],
   "source": [
    "from nltk.corpus import treebank\n",
    "nltk.download('treebank') #do this if needed\n",
    "print(treebank.parsed_sents())\n"
   ]
  },
  {
   "cell_type": "markdown",
   "metadata": {
    "slideshow": {
     "slide_type": "subslide"
    }
   },
   "source": [
    "## Inferring the Penn Treebank Grammar\n",
    "\n",
    "The following code will construct the grammar from these trees.\n",
    "\n",
    "One problem - this grammar has a limited vocabulary. \n",
    "* Note: I had to sub a word for `pajamas`\n",
    "\n",
    "Another problem - this may take a while to run\n",
    "\n",
    "Maybe you can figure out a way to deal with this and do something interesting with it."
   ]
  },
  {
   "cell_type": "code",
   "execution_count": 6,
   "metadata": {},
   "outputs": [
    {
     "ename": "KeyboardInterrupt",
     "evalue": "",
     "output_type": "error",
     "traceback": [
      "\u001b[0;31m---------------------------------------------------------------------------\u001b[0m",
      "\u001b[0;31mKeyboardInterrupt\u001b[0m                         Traceback (most recent call last)",
      "\u001b[1;32m/Users/elijahlueders/git/nlp_local/manley_repo/F4_3_ContextFreeGrammars.ipynb Cell 27\u001b[0m line \u001b[0;36m2\n\u001b[1;32m     <a href='vscode-notebook-cell:/Users/elijahlueders/git/nlp_local/manley_repo/F4_3_ContextFreeGrammars.ipynb#X34sZmlsZQ%3D%3D?line=18'>19</a>\u001b[0m parser \u001b[39m=\u001b[39m nltk\u001b[39m.\u001b[39mChartParser(treebank_grammar)\n\u001b[1;32m     <a href='vscode-notebook-cell:/Users/elijahlueders/git/nlp_local/manley_repo/F4_3_ContextFreeGrammars.ipynb#X34sZmlsZQ%3D%3D?line=19'>20</a>\u001b[0m sentence \u001b[39m=\u001b[39m \u001b[39m\"\u001b[39m\u001b[39mI shot an elephant in my car\u001b[39m\u001b[39m\"\u001b[39m\u001b[39m.\u001b[39msplit()\n\u001b[0;32m---> <a href='vscode-notebook-cell:/Users/elijahlueders/git/nlp_local/manley_repo/F4_3_ContextFreeGrammars.ipynb#X34sZmlsZQ%3D%3D?line=20'>21</a>\u001b[0m \u001b[39mfor\u001b[39;00m tree \u001b[39min\u001b[39;00m parser\u001b[39m.\u001b[39;49mparse(sentence):\n\u001b[1;32m     <a href='vscode-notebook-cell:/Users/elijahlueders/git/nlp_local/manley_repo/F4_3_ContextFreeGrammars.ipynb#X34sZmlsZQ%3D%3D?line=21'>22</a>\u001b[0m     display(tree)\n",
      "File \u001b[0;32m~/Library/Caches/pypoetry/virtualenvs/nlp-local-JrpFJHsc-py3.10/lib/python3.10/site-packages/nltk/parse/chart.py:1474\u001b[0m, in \u001b[0;36mChartParser.parse\u001b[0;34m(self, tokens, tree_class)\u001b[0m\n\u001b[1;32m   1473\u001b[0m \u001b[39mdef\u001b[39;00m \u001b[39mparse\u001b[39m(\u001b[39mself\u001b[39m, tokens, tree_class\u001b[39m=\u001b[39mTree):\n\u001b[0;32m-> 1474\u001b[0m     chart \u001b[39m=\u001b[39m \u001b[39mself\u001b[39;49m\u001b[39m.\u001b[39;49mchart_parse(tokens)\n\u001b[1;32m   1475\u001b[0m     \u001b[39mreturn\u001b[39;00m \u001b[39miter\u001b[39m(chart\u001b[39m.\u001b[39mparses(\u001b[39mself\u001b[39m\u001b[39m.\u001b[39m_grammar\u001b[39m.\u001b[39mstart(), tree_class\u001b[39m=\u001b[39mtree_class))\n",
      "File \u001b[0;32m~/Library/Caches/pypoetry/virtualenvs/nlp-local-JrpFJHsc-py3.10/lib/python3.10/site-packages/nltk/parse/chart.py:1455\u001b[0m, in \u001b[0;36mChartParser.chart_parse\u001b[0;34m(self, tokens, trace)\u001b[0m\n\u001b[1;32m   1453\u001b[0m edge \u001b[39m=\u001b[39m agenda\u001b[39m.\u001b[39mpop()\n\u001b[1;32m   1454\u001b[0m \u001b[39mfor\u001b[39;00m rule \u001b[39min\u001b[39;00m inference_rules:\n\u001b[0;32m-> 1455\u001b[0m     new_edges \u001b[39m=\u001b[39m \u001b[39mlist\u001b[39;49m(rule\u001b[39m.\u001b[39;49mapply(chart, grammar, edge))\n\u001b[1;32m   1456\u001b[0m     \u001b[39mif\u001b[39;00m trace:\n\u001b[1;32m   1457\u001b[0m         trace_new_edges(chart, rule, new_edges, trace, trace_edge_width)\n",
      "File \u001b[0;32m~/Library/Caches/pypoetry/virtualenvs/nlp-local-JrpFJHsc-py3.10/lib/python3.10/site-packages/nltk/parse/chart.py:1237\u001b[0m, in \u001b[0;36mBottomUpPredictCombineRule.apply\u001b[0;34m(self, chart, grammar, edge)\u001b[0m\n\u001b[1;32m   1235\u001b[0m \u001b[39mfor\u001b[39;00m prod \u001b[39min\u001b[39;00m grammar\u001b[39m.\u001b[39mproductions(rhs\u001b[39m=\u001b[39medge\u001b[39m.\u001b[39mlhs()):\n\u001b[1;32m   1236\u001b[0m     new_edge \u001b[39m=\u001b[39m TreeEdge(edge\u001b[39m.\u001b[39mspan(), prod\u001b[39m.\u001b[39mlhs(), prod\u001b[39m.\u001b[39mrhs(), \u001b[39m1\u001b[39m)\n\u001b[0;32m-> 1237\u001b[0m     \u001b[39mif\u001b[39;00m chart\u001b[39m.\u001b[39;49minsert(new_edge, (edge,)):\n\u001b[1;32m   1238\u001b[0m         \u001b[39myield\u001b[39;00m new_edge\n",
      "File \u001b[0;32m~/Library/Caches/pypoetry/virtualenvs/nlp-local-JrpFJHsc-py3.10/lib/python3.10/site-packages/nltk/parse/chart.py:654\u001b[0m, in \u001b[0;36mChart.insert\u001b[0;34m(self, edge, *child_pointer_lists)\u001b[0m\n\u001b[1;32m    651\u001b[0m     \u001b[39mself\u001b[39m\u001b[39m.\u001b[39m_register_with_indexes(edge)\n\u001b[1;32m    653\u001b[0m \u001b[39m# Get the set of child pointer lists for this edge.\u001b[39;00m\n\u001b[0;32m--> 654\u001b[0m cpls \u001b[39m=\u001b[39m \u001b[39mself\u001b[39;49m\u001b[39m.\u001b[39;49m_edge_to_cpls\u001b[39m.\u001b[39;49msetdefault(edge, OrderedDict())\n\u001b[1;32m    655\u001b[0m chart_was_modified \u001b[39m=\u001b[39m \u001b[39mFalse\u001b[39;00m\n\u001b[1;32m    656\u001b[0m \u001b[39mfor\u001b[39;00m child_pointer_list \u001b[39min\u001b[39;00m child_pointer_lists:\n",
      "File \u001b[0;32m~/Library/Caches/pypoetry/virtualenvs/nlp-local-JrpFJHsc-py3.10/lib/python3.10/site-packages/nltk/parse/chart.py:203\u001b[0m, in \u001b[0;36mEdgeI.__eq__\u001b[0;34m(self, other)\u001b[0m\n\u001b[1;32m    200\u001b[0m \u001b[39mdef\u001b[39;00m \u001b[39m__eq__\u001b[39m(\u001b[39mself\u001b[39m, other):\n\u001b[1;32m    201\u001b[0m     \u001b[39mreturn\u001b[39;00m (\n\u001b[1;32m    202\u001b[0m         \u001b[39mself\u001b[39m\u001b[39m.\u001b[39m\u001b[39m__class__\u001b[39m \u001b[39mis\u001b[39;00m other\u001b[39m.\u001b[39m\u001b[39m__class__\u001b[39m\n\u001b[0;32m--> 203\u001b[0m         \u001b[39mand\u001b[39;00m \u001b[39mself\u001b[39;49m\u001b[39m.\u001b[39;49m_comparison_key \u001b[39m==\u001b[39;49m other\u001b[39m.\u001b[39;49m_comparison_key\n\u001b[1;32m    204\u001b[0m     )\n",
      "File \u001b[0;32m~/Library/Caches/pypoetry/virtualenvs/nlp-local-JrpFJHsc-py3.10/lib/python3.10/site-packages/nltk/grammar.py:123\u001b[0m, in \u001b[0;36mNonterminal.__eq__\u001b[0;34m(self, other)\u001b[0m\n\u001b[1;32m    116\u001b[0m \u001b[39m    \u001b[39m\u001b[39m\"\"\"\u001b[39;00m\n\u001b[1;32m    117\u001b[0m \u001b[39m    Return the node value corresponding to this ``Nonterminal``.\u001b[39;00m\n\u001b[1;32m    118\u001b[0m \n\u001b[1;32m    119\u001b[0m \u001b[39m    :rtype: (any)\u001b[39;00m\n\u001b[1;32m    120\u001b[0m \u001b[39m    \"\"\"\u001b[39;00m\n\u001b[1;32m    121\u001b[0m     \u001b[39mreturn\u001b[39;00m \u001b[39mself\u001b[39m\u001b[39m.\u001b[39m_symbol\n\u001b[0;32m--> 123\u001b[0m \u001b[39mdef\u001b[39;00m \u001b[39m__eq__\u001b[39m(\u001b[39mself\u001b[39m, other):\n\u001b[1;32m    124\u001b[0m \u001b[39m    \u001b[39m\u001b[39m\"\"\"\u001b[39;00m\n\u001b[1;32m    125\u001b[0m \u001b[39m    Return True if this non-terminal is equal to ``other``.  In\u001b[39;00m\n\u001b[1;32m    126\u001b[0m \u001b[39m    particular, return True if ``other`` is a ``Nonterminal``\u001b[39;00m\n\u001b[0;32m   (...)\u001b[0m\n\u001b[1;32m    129\u001b[0m \u001b[39m    :rtype: bool\u001b[39;00m\n\u001b[1;32m    130\u001b[0m \u001b[39m    \"\"\"\u001b[39;00m\n\u001b[1;32m    131\u001b[0m     \u001b[39mreturn\u001b[39;00m \u001b[39mtype\u001b[39m(\u001b[39mself\u001b[39m) \u001b[39m==\u001b[39m \u001b[39mtype\u001b[39m(other) \u001b[39mand\u001b[39;00m \u001b[39mself\u001b[39m\u001b[39m.\u001b[39m_symbol \u001b[39m==\u001b[39m other\u001b[39m.\u001b[39m_symbol\n",
      "\u001b[0;31mKeyboardInterrupt\u001b[0m: "
     ]
    }
   ],
   "source": [
    "import nltk\n",
    "from nltk.corpus import treebank\n",
    "\n",
    "# Download the Penn Treebank corpus\n",
    "#nltk.download('treebank')\n",
    "\n",
    "# Extract and prepare treebank sentences\n",
    "treebank_sents = treebank.parsed_sents()\n",
    "\n",
    "# go through each parsed sentence and put its production \n",
    "# into a big list of productions\n",
    "productions = []\n",
    "for sent in treebank.parsed_sents():\n",
    "    for curr_production in sent.productions():\n",
    "        productions.append( curr_production )\n",
    "\n",
    "treebank_grammar = nltk.CFG(nltk.Nonterminal('S'), productions)\n",
    "\n",
    "parser = nltk.ChartParser(treebank_grammar)\n",
    "sentence = \"I shot an elephant in my car\".split()\n",
    "for tree in parser.parse(sentence):\n",
    "    display(tree)"
   ]
  },
  {
   "cell_type": "markdown",
   "metadata": {
    "slideshow": {
     "slide_type": "slide"
    }
   },
   "source": [
    "## Applied Exploration\n",
    "\n",
    "Complete the exercises/dicussion form this workshop. Inlude your notes and written answers to questions.\n",
    "\n",
    "Also, go to https://web.stanford.edu/~jurafsky/slp3/17.pdf and find the $\\mathscr{L}_1$ grammar. There are still a few productions we are missing - add them in here and provide some test strings which use those productions. Feel free to add additional words for the different parts of speech."
   ]
  }
 ],
 "metadata": {
  "celltoolbar": "Slideshow",
  "colab": {
   "authorship_tag": "ABX9TyOf2oi4GbgdvkO0orSdgZtQ",
   "provenance": []
  },
  "kernelspec": {
   "display_name": "Python 3 (ipykernel)",
   "language": "python",
   "name": "python3"
  },
  "language_info": {
   "codemirror_mode": {
    "name": "ipython",
    "version": 3
   },
   "file_extension": ".py",
   "mimetype": "text/x-python",
   "name": "python",
   "nbconvert_exporter": "python",
   "pygments_lexer": "ipython3",
   "version": "3.10.8"
  }
 },
 "nbformat": 4,
 "nbformat_minor": 1
}
